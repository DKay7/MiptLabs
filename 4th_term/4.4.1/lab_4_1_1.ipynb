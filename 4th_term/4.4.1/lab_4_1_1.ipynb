{
  "nbformat": 4,
  "nbformat_minor": 0,
  "metadata": {
    "colab": {
      "provenance": []
    },
    "kernelspec": {
      "name": "python3",
      "display_name": "Python 3"
    },
    "language_info": {
      "name": "python"
    }
  },
  "cells": [
    {
      "cell_type": "code",
      "execution_count": 1,
      "metadata": {
        "id": "eQxb-5TwO6Yh"
      },
      "outputs": [],
      "source": [
        "import numpy as np\n",
        "import matplotlib.pyplot as plt"
      ]
    },
    {
      "cell_type": "code",
      "source": [
        "class angle:\n",
        "    def __init__(self, angle, min, sec):\n",
        "        self.angle = angle\n",
        "        self.min = min\n",
        "        self.sec = sec\n",
        "    \n",
        "    def get_degree(self):\n",
        "        return self.angle + self.min / 60 + self.sec / 3600\n",
        "\n",
        "    def __str__(self) -> str:\n",
        "        return f\"${self.angle}^{{\\\\circ}}{self.min}'{self.sec}''$\""
      ],
      "metadata": {
        "id": "eGy2QVtLP86c"
      },
      "execution_count": 78,
      "outputs": []
    },
    {
      "cell_type": "code",
      "source": [
        "data = np.array([\n",
        "    [\"фиолетовый\",  404.7, angle(13, 36, 28)],\n",
        "    [\"синий\",       435.8, angle(14, 26, 28)],\n",
        "    [\"голубой\",     491.6, angle(16, 8, 32)],\n",
        "    [\"зеленый\",     546.1, angle(17, 45, 27)],\n",
        "    [\"желтый\",      577.0, angle(18, 40, 21)],\n",
        "    [\"желтый\",      579.1, angle(18, 44, 21)],\n",
        "\n",
        "])"
      ],
      "metadata": {
        "id": "8ncqHMd0WP4Q"
      },
      "execution_count": 79,
      "outputs": []
    },
    {
      "cell_type": "code",
      "source": [
        "print('''\n",
        "\\\\begin{table}[h]\n",
        "\\\\centering\n",
        "\\\\begin{tabular}{|c|c|c|c|}\n",
        "\\\\hline ''')\n",
        "\n",
        "print(\"Цвет & Длина волны, нм. & угол $\\\\phi_1$, град. & $sin(\\\\phi_1)$ \\\\ \\hline\")\n",
        "for line in data:\n",
        "    color_name, wave_len, angle = line\n",
        "    print(f\"{color_name} & {wave_len} & {angle} & {np.sin(np.deg2rad(angle.get_degree())):.5f} \\\\\\ \\\\hline\")\n",
        "\n",
        "print('''\n",
        "\\end{tabular}\n",
        "\\caption{Данные эксперимента}\n",
        "\\label{tabl:expr}\n",
        "\\end{table}\n",
        "''')"
      ],
      "metadata": {
        "colab": {
          "base_uri": "https://localhost:8080/"
        },
        "id": "E1K8f53MRwBQ",
        "outputId": "438d7cd7-56bf-4ee0-db6d-cea3cfe9558f"
      },
      "execution_count": 80,
      "outputs": [
        {
          "output_type": "stream",
          "name": "stdout",
          "text": [
            "\n",
            "\\begin{table}[h]\n",
            "\\centering\n",
            "\\begin{tabular}{|c|c|c|c|}\n",
            "\\hline \n",
            "Цвет & Длина волны, нм. & угол $\\phi_1$, град. & $sin(\\phi_1)$ \\ \\hline\n",
            "фиолетовый & 404.7 & $13^{\\circ}36'28''$ & 0.23527 \\\\ \\hline\n",
            "синий & 435.8 & $14^{\\circ}26'28''$ & 0.24938 \\\\ \\hline\n",
            "голубой & 491.6 & $16^{\\circ}8'32''$ & 0.27802 \\\\ \\hline\n",
            "зеленый & 546.1 & $17^{\\circ}45'27''$ & 0.30499 \\\\ \\hline\n",
            "желтый & 577.0 & $18^{\\circ}40'21''$ & 0.32016 \\\\ \\hline\n",
            "желтый & 579.1 & $18^{\\circ}44'21''$ & 0.32126 \\\\ \\hline\n",
            "\n",
            "\\end{tabular}\n",
            "\\caption{Данные эксперимента}\n",
            "\\label{tabl:expr}\n",
            "\\end{table}\n",
            "\n"
          ]
        }
      ]
    },
    {
      "cell_type": "code",
      "source": [
        "lambdas = []\n",
        "sin_angles = []\n",
        "\n",
        "for line in data:\n",
        "    color_name, wave_len, angle = line\n",
        "    sin_phi = np.sin(np.deg2rad(angle.get_degree()))\n",
        "    lambdas.append(wave_len)\n",
        "    sin_angles.append(sin_phi)\n",
        "\n",
        "lambdas = np.array(lambdas) / 10 ** (9)\n",
        "sin_angles = np.array(sin_angles)"
      ],
      "metadata": {
        "id": "H1bB-66xSrYh"
      },
      "execution_count": 121,
      "outputs": []
    },
    {
      "cell_type": "code",
      "source": [
        "sin_angles"
      ],
      "metadata": {
        "colab": {
          "base_uri": "https://localhost:8080/"
        },
        "id": "ECeOH2kLalYm",
        "outputId": "20bebf8a-1470-4a09-c33c-239825db13b5"
      },
      "execution_count": 122,
      "outputs": [
        {
          "output_type": "execute_result",
          "data": {
            "text/plain": [
              "array([0.23527405, 0.2493848 , 0.27802259, 0.30498896, 0.32015833,\n",
              "       0.32126042])"
            ]
          },
          "metadata": {},
          "execution_count": 122
        }
      ]
    },
    {
      "cell_type": "code",
      "source": [
        "lambdas"
      ],
      "metadata": {
        "colab": {
          "base_uri": "https://localhost:8080/"
        },
        "id": "Ib6PsbFoaubF",
        "outputId": "76893e5c-0259-4d3b-e31c-b9b59f8324aa"
      },
      "execution_count": 123,
      "outputs": [
        {
          "output_type": "execute_result",
          "data": {
            "text/plain": [
              "array([4.047e-07, 4.358e-07, 4.916e-07, 5.461e-07, 5.770e-07, 5.791e-07])"
            ]
          },
          "metadata": {},
          "execution_count": 123
        }
      ]
    },
    {
      "cell_type": "code",
      "source": [
        "# Оценка коэффициентов методом наименьших квадратов\n",
        "a, b = np.polyfit(sin_angles, lambdas, 1)\n",
        "\n",
        "\n",
        "# Вычисление точек для построения графика\n",
        "min_x = np.min(sin_angles)\n",
        "max_x = np.max(sin_angles)\n",
        "x = np.linspace(min_x, max_x, 100)\n",
        "y = a * x + b\n",
        "\n",
        "# Построение графика\n",
        "plt.plot(sin_angles, lambdas * 10**9, 'o', color=\"black\", label='Исходные данные')\n",
        "plt.plot(x, y * 10**9, '-', color=\"gray\", label=f'sin(phi) = {a:.2E} * lambda  {\"+\" if b > 0 else \"-\"} {abs(b):.2E}')\n",
        "\n",
        "plt.ylabel('lambda, нм. ')\n",
        "plt.xlabel('sin(phi)')\n",
        "plt.legend()\n",
        "plt.grid()\n",
        "plt.savefig(\"sin_to_lambda.png\")\n",
        "plt.show()"
      ],
      "metadata": {
        "colab": {
          "base_uri": "https://localhost:8080/",
          "height": 279
        },
        "id": "ORpgmfPTZcqc",
        "outputId": "8d164a1a-b2b0-4730-b075-8b55c9adfb45"
      },
      "execution_count": 133,
      "outputs": [
        {
          "output_type": "display_data",
          "data": {
            "text/plain": [
              "<Figure size 432x288 with 1 Axes>"
            ],
            "image/png": "[encoded data removed]"
          },
          "metadata": {
            "needs_background": "light"
          }
        }
      ]
    },
    {
      "cell_type": "code",
      "source": [
        "a * 10**(6)"
      ],
      "metadata": {
        "colab": {
          "base_uri": "https://localhost:8080/"
        },
        "id": "cwTYAaDnaYuv",
        "outputId": "80330848-8685-4263-ecf5-daf9d8231496"
      },
      "execution_count": 134,
      "outputs": [
        {
          "output_type": "execute_result",
          "data": {
            "text/plain": [
              "2.0156958487356356"
            ]
          },
          "metadata": {},
          "execution_count": 134
        }
      ]
    },
    {
      "cell_type": "code",
      "source": [
        "ms = np.array([1, 2, 3, -1, -2, -3])\n",
        "D_exp = np.array([1.14, 13.4, 30.9, -5.46, -12.5, -30.4])\n",
        "D_true = np.array([5.22, 12.2, 29.9, -5.22, -12.2, -29.9])\n",
        "\n",
        "a, b, c, d = np.polyfit(ms, D_true, 3)\n",
        "min_x = np.min(ms)\n",
        "max_x = np.max(ms)\n",
        "x = np.linspace(min_x, max_x, 100)\n",
        "y = a * x**3  + b*x**2 + c*x + d\n",
        "\n",
        "plt.plot(ms, D_exp, 'o', color=\"black\", label=\"Эксперимент. данные\")\n",
        "plt.plot(x, y, '-', color=\"gray\", label=\"Теор. аппрокс.\")\n",
        "\n",
        "plt.ylabel('D, 10^(-5) * рад / Å ')\n",
        "plt.xlabel('m')\n",
        "\n",
        "plt.grid()\n",
        "plt.legend()\n",
        "plt.savefig(\"d_to_m.png\")\n",
        "\n",
        "# plt.show()"
      ],
      "metadata": {
        "colab": {
          "base_uri": "https://localhost:8080/",
          "height": 279
        },
        "id": "kLr9q_nkdS7F",
        "outputId": "6556a4be-c463-4a4a-d89c-ee4f2746ec9c"
      },
      "execution_count": 150,
      "outputs": [
        {
          "output_type": "display_data",
          "data": {
            "text/plain": [
              "<Figure size 432x288 with 1 Axes>"
            ],
            "image/png": "[encoded data removed]"
          },
          "metadata": {
            "needs_background": "light"
          }
        }
      ]
    },
    {
      "cell_type": "code",
      "source": [],
      "metadata": {
        "id": "7XkO3_d6j9FD"
      },
      "execution_count": null,
      "outputs": []
    }
  ]
}