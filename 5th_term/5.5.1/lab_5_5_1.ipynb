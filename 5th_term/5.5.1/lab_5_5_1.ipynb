{
  "nbformat": 4,
  "nbformat_minor": 0,
  "metadata": {
    "colab": {
      "provenance": []
    },
    "kernelspec": {
      "name": "python3",
      "display_name": "Python 3"
    },
    "language_info": {
      "name": "python"
    }
  },
  "cells": [
    {
      "cell_type": "code",
      "execution_count": null,
      "metadata": {
        "id": "wsG6lDUniAZT"
      },
      "outputs": [],
      "source": [
        "import numpy as np\n",
        "import matplotlib.pyplot as plt\n"
      ]
    },
    {
      "cell_type": "code",
      "source": [
        "def error_of_one(value):\n",
        "    return np.sqrt(value)"
      ],
      "metadata": {
        "id": "Q5AhJr3EmqAQ"
      },
      "execution_count": null,
      "outputs": []
    },
    {
      "cell_type": "code",
      "source": [
        "def error_of_sequence(seq: np.ndarray):\n",
        "    mse = np.sqrt(( (seq - seq.mean())**2 ).sum() / ( seq.size * (seq.size - 1) ))\n",
        "    studendts_coefs = { # при доверительном интервале = 0.95\n",
        "        3:  4.3,\n",
        "        4:  3.2,\n",
        "        5:  2.8,\n",
        "        6:  2.6,\n",
        "        7:  2.4,\n",
        "        8:  2.4\n",
        "    }\n",
        "\n",
        "    return ( mse * studendts_coefs[seq.size] / seq.mean() ) * 100"
      ],
      "metadata": {
        "id": "jGXrhoENjPau"
      },
      "execution_count": null,
      "outputs": []
    },
    {
      "cell_type": "code",
      "source": [
        "def print_table(time, seq):\n",
        "    for value in seq:\n",
        "        print(f\"{time}\\t&\\t{value}\\t&\\t{error_of_one(value):.2f} \\\\\\\\ \\\\hline\")\n",
        "\n",
        "    print(f\"относительная погрешность измерения: {error_of_sequence(seq):.3f} %\")"
      ],
      "metadata": {
        "id": "Oy4Kb2-BrJ7T"
      },
      "execution_count": null,
      "outputs": []
    },
    {
      "cell_type": "markdown",
      "source": [
        "# Измерение фона"
      ],
      "metadata": {
        "id": "tUbba3skmFh3"
      }
    },
    {
      "cell_type": "code",
      "source": [
        "background_noize = np.array([  3480, 3444, 3435, 3481 ])"
      ],
      "metadata": {
        "id": "dnnMBq_Yj14k"
      },
      "execution_count": null,
      "outputs": []
    },
    {
      "cell_type": "code",
      "source": [
        "error_of_sequence(background_noize) # погрешность измерения фона"
      ],
      "metadata": {
        "colab": {
          "base_uri": "https://localhost:8080/"
        },
        "id": "rWO-J9bQkEHY",
        "outputId": "1a29534b-7ece-46fe-817c-1b121b3c0c48"
      },
      "execution_count": null,
      "outputs": [
        {
          "output_type": "execute_result",
          "data": {
            "text/plain": [
              "1.107898131857659"
            ]
          },
          "metadata": {},
          "execution_count": 201
        }
      ]
    },
    {
      "cell_type": "code",
      "source": [
        "# печать таблицы\n",
        "print_table(120, background_noize)"
      ],
      "metadata": {
        "colab": {
          "base_uri": "https://localhost:8080/"
        },
        "id": "XX5OiITjkHqC",
        "outputId": "0275ce4a-7683-42d9-a3ef-2e02cc09036f"
      },
      "execution_count": null,
      "outputs": [
        {
          "output_type": "stream",
          "name": "stdout",
          "text": [
            "120\t&\t3480\t&\t58.99 \\\\ \\hline\n",
            "120\t&\t3444\t&\t58.69 \\\\ \\hline\n",
            "120\t&\t3435\t&\t58.61 \\\\ \\hline\n",
            "120\t&\t3481\t&\t59.00 \\\\ \\hline\n",
            "относительная погрешность измерения: 1.108 %\n"
          ]
        }
      ]
    },
    {
      "cell_type": "code",
      "source": [
        "# таким образом, возьмем n_фон =\n",
        "print(background_noize.mean())\n",
        "N_noise = background_noize.mean()"
      ],
      "metadata": {
        "colab": {
          "base_uri": "https://localhost:8080/"
        },
        "id": "6hm3nXnmmitq",
        "outputId": "163a5f11-b268-4e36-c1c6-99784e3d0186"
      },
      "execution_count": null,
      "outputs": [
        {
          "output_type": "stream",
          "name": "stdout",
          "text": [
            "3460.0\n"
          ]
        }
      ]
    },
    {
      "cell_type": "markdown",
      "source": [
        "Измерение радиации от источника без препятствий"
      ],
      "metadata": {
        "id": "tdW9zpCVo3wt"
      }
    },
    {
      "cell_type": "code",
      "source": [
        "sourse_data = np.array([ 523579, 520410, 519991, 519027, 519546 ]) -  N_noise\n",
        "error_of_sequence(sourse_data) # погрешность измерения радиации источника\n"
      ],
      "metadata": {
        "colab": {
          "base_uri": "https://localhost:8080/"
        },
        "id": "2RGwcmDaotHr",
        "outputId": "3a3886ad-3c65-41c2-9a23-f79c9437e401"
      },
      "execution_count": null,
      "outputs": [
        {
          "output_type": "execute_result",
          "data": {
            "text/plain": [
              "0.4336781520952275"
            ]
          },
          "metadata": {},
          "execution_count": 204
        }
      ]
    },
    {
      "cell_type": "code",
      "source": [
        "print_table(60, sourse_data)"
      ],
      "metadata": {
        "colab": {
          "base_uri": "https://localhost:8080/"
        },
        "id": "-sEki1ucqNyo",
        "outputId": "e696eaa5-d2fb-4974-e554-8ec4b23213ec"
      },
      "execution_count": null,
      "outputs": [
        {
          "output_type": "stream",
          "name": "stdout",
          "text": [
            "60\t&\t520119.0\t&\t721.19 \\\\ \\hline\n",
            "60\t&\t516950.0\t&\t718.99 \\\\ \\hline\n",
            "60\t&\t516531.0\t&\t718.70 \\\\ \\hline\n",
            "60\t&\t515567.0\t&\t718.03 \\\\ \\hline\n",
            "60\t&\t516086.0\t&\t718.39 \\\\ \\hline\n",
            "относительная погрешность измерения: 0.434 %\n"
          ]
        }
      ]
    },
    {
      "cell_type": "code",
      "source": [
        "# таким образом, возьмем n_ист =\n",
        "N_0 = (sourse_data.mean() / 60)\n",
        "\n",
        "print(N_0)\n"
      ],
      "metadata": {
        "colab": {
          "base_uri": "https://localhost:8080/"
        },
        "id": "hCPXNpLRqWIQ",
        "outputId": "bbc1ee89-0417-4fe3-a641-77e82f79cfba"
      },
      "execution_count": null,
      "outputs": [
        {
          "output_type": "stream",
          "name": "stdout",
          "text": [
            "8617.51\n"
          ]
        }
      ]
    },
    {
      "cell_type": "markdown",
      "source": [
        "# Основная часть работы\n"
      ],
      "metadata": {
        "id": "VODZCDN_wlPf"
      }
    },
    {
      "cell_type": "code",
      "source": [
        "def print_measurement_table(time, thickness_seq, N_seq):\n",
        "    print(\"Время с.; толщина, мм.; погрешность толщины, мм.; количество частиц; погрешность количества частиц\")\n",
        "    for thickness, n in zip(thickness_seq, N_seq):\n",
        "        print(f\"{time}\\t&\\t{thickness}\\t&\\t{0.1}\\t&\\t{n:7.0f}\\t&\\t{error_of_one(n):6.2f} \\\\\\\\ \\\\hline\")"
      ],
      "metadata": {
        "id": "hpX-DEWGsxO2"
      },
      "execution_count": null,
      "outputs": []
    },
    {
      "cell_type": "code",
      "source": [
        "def plot_data(thickness_seq, N_seq):\n",
        "    pass"
      ],
      "metadata": {
        "id": "n_Q2vR3BwqPe"
      },
      "execution_count": null,
      "outputs": []
    },
    {
      "cell_type": "markdown",
      "source": [
        "## Измерение аллюминия"
      ],
      "metadata": {
        "id": "Ec5uX_3esxyT"
      }
    },
    {
      "cell_type": "code",
      "source": [
        "n_allumini = np.array([342319, 177289, 149346, 101206, 68631]) - N_noise\n",
        "thickness_allumini = np.array([20.2, 40.4, 60.4, 80.2, 100.4])"
      ],
      "metadata": {
        "id": "Y-cHsZWZqrHD"
      },
      "execution_count": null,
      "outputs": []
    },
    {
      "cell_type": "code",
      "source": [
        "print_measurement_table(60, thickness_allumini, n_allumini)"
      ],
      "metadata": {
        "colab": {
          "base_uri": "https://localhost:8080/"
        },
        "id": "3AiqGKTOvbKi",
        "outputId": "89c6efe8-26fd-4529-ad87-856067b4ec9b"
      },
      "execution_count": null,
      "outputs": [
        {
          "output_type": "stream",
          "name": "stdout",
          "text": [
            "Время с.; толщина, мм.; погрешность толщины, мм.; количество частиц; погрешность количества частиц\n",
            "60\t&\t20.2\t&\t0.1\t&\t 338859\t&\t582.12 \\\\ \\hline\n",
            "60\t&\t40.4\t&\t0.1\t&\t 173829\t&\t416.93 \\\\ \\hline\n",
            "60\t&\t60.4\t&\t0.1\t&\t 145886\t&\t381.95 \\\\ \\hline\n",
            "60\t&\t80.2\t&\t0.1\t&\t  97746\t&\t312.64 \\\\ \\hline\n",
            "60\t&\t100.4\t&\t0.1\t&\t  65171\t&\t255.29 \\\\ \\hline\n"
          ]
        }
      ]
    },
    {
      "cell_type": "code",
      "source": [],
      "metadata": {
        "id": "JOU_SnT6veQM"
      },
      "execution_count": null,
      "outputs": []
    },
    {
      "cell_type": "markdown",
      "source": [
        "## Измерение железа"
      ],
      "metadata": {
        "id": "femOaHGKxfY3"
      }
    },
    {
      "cell_type": "code",
      "source": [
        "n_iron = np.array([296367, 164025, 94401, 54316, 31658]) - N_noise\n",
        "thickness_iron = np.array([10.6, 20.8, 31, 41.2, 51.6])"
      ],
      "metadata": {
        "id": "G6A1dQuAxjMz"
      },
      "execution_count": null,
      "outputs": []
    },
    {
      "cell_type": "code",
      "source": [
        "print_measurement_table(60, thickness_iron, n_iron)"
      ],
      "metadata": {
        "colab": {
          "base_uri": "https://localhost:8080/"
        },
        "id": "Abnxi0Mdz30f",
        "outputId": "26eec073-119f-4cba-ab08-67d205ae102a"
      },
      "execution_count": null,
      "outputs": [
        {
          "output_type": "stream",
          "name": "stdout",
          "text": [
            "Время с.; толщина, мм.; погрешность толщины, мм.; количество частиц; погрешность количества частиц\n",
            "60\t&\t10.6\t&\t0.1\t&\t 292907\t&\t541.21 \\\\ \\hline\n",
            "60\t&\t20.8\t&\t0.1\t&\t 160565\t&\t400.71 \\\\ \\hline\n",
            "60\t&\t31.0\t&\t0.1\t&\t  90941\t&\t301.56 \\\\ \\hline\n",
            "60\t&\t41.2\t&\t0.1\t&\t  50856\t&\t225.51 \\\\ \\hline\n",
            "60\t&\t51.6\t&\t0.1\t&\t  28198\t&\t167.92 \\\\ \\hline\n"
          ]
        }
      ]
    },
    {
      "cell_type": "code",
      "source": [],
      "metadata": {
        "id": "K8_n_MDHz6ru"
      },
      "execution_count": null,
      "outputs": []
    },
    {
      "cell_type": "markdown",
      "source": [
        "## Измерение свинца"
      ],
      "metadata": {
        "id": "aHaIFDGg0BWR"
      }
    },
    {
      "cell_type": "code",
      "source": [
        "n_plumbum = np.array([299143, 171188, 100294, 57834, 34597]) - N_noise\n",
        "thickness_plumbum = np.array([4.5, 9.2, 14.1, 19.0, 23.9])"
      ],
      "metadata": {
        "id": "d2wAp6Lf0DAn"
      },
      "execution_count": null,
      "outputs": []
    },
    {
      "cell_type": "code",
      "source": [
        "print_measurement_table(60, thickness_plumbum, n_plumbum)\n"
      ],
      "metadata": {
        "colab": {
          "base_uri": "https://localhost:8080/"
        },
        "id": "bxexDLn90gCA",
        "outputId": "bb51791b-68d4-444c-c380-4e3225aa2ced"
      },
      "execution_count": null,
      "outputs": [
        {
          "output_type": "stream",
          "name": "stdout",
          "text": [
            "Время с.; толщина, мм.; погрешность толщины, мм.; количество частиц; погрешность количества частиц\n",
            "60\t&\t4.5\t&\t0.1\t&\t 295683\t&\t543.77 \\\\ \\hline\n",
            "60\t&\t9.2\t&\t0.1\t&\t 167728\t&\t409.55 \\\\ \\hline\n",
            "60\t&\t14.1\t&\t0.1\t&\t  96834\t&\t311.18 \\\\ \\hline\n",
            "60\t&\t19.0\t&\t0.1\t&\t  54374\t&\t233.18 \\\\ \\hline\n",
            "60\t&\t23.9\t&\t0.1\t&\t  31137\t&\t176.46 \\\\ \\hline\n"
          ]
        }
      ]
    },
    {
      "cell_type": "code",
      "source": [],
      "metadata": {
        "id": "3MaHkmTy0iVG"
      },
      "execution_count": null,
      "outputs": []
    },
    {
      "cell_type": "markdown",
      "source": [
        "# Графики\n"
      ],
      "metadata": {
        "id": "KRpJLRRJ1AW3"
      }
    },
    {
      "cell_type": "code",
      "source": [
        "# отнормируем значения по времени\n",
        "\n",
        "time = 60\n",
        "n_allumini_time_norm = n_allumini / time\n",
        "n_iron_time_norm = n_iron / time\n",
        "n_plumbum_time_norm = n_plumbum / time\n"
      ],
      "metadata": {
        "id": "0Xmup-AR1BhE"
      },
      "execution_count": null,
      "outputs": []
    },
    {
      "cell_type": "markdown",
      "source": [
        "### линейный масштаб\n"
      ],
      "metadata": {
        "id": "R7KbWIv5148x"
      }
    },
    {
      "cell_type": "code",
      "source": [
        "fig = plt.figure()\n",
        "\n",
        "plt.errorbar(thickness_allumini, n_allumini_time_norm, xerr=0.1, yerr=[error_of_one(i) for i in n_allumini_time_norm], ecolor='black', label=\"Аллюминий\")\n",
        "\n",
        "plt.errorbar(thickness_iron, n_iron_time_norm, xerr=0.1, yerr=[error_of_one(i) for i in n_iron_time_norm], ecolor='black', label=\"Железо\")\n",
        "\n",
        "plt.errorbar(thickness_plumbum, n_plumbum_time_norm, xerr=0.1, yerr=[error_of_one(i) for i in n_plumbum_time_norm], ecolor='black',  label=\"Свинец\")\n",
        "\n",
        "plt.grid()\n",
        "plt.xlabel(\"l, мм.\")\n",
        "plt.ylabel(\"n, 1/c.\")\n",
        "plt.legend()\n",
        "\n",
        "plt.savefig(\"all_samples.png\")\n",
        "plt.show()"
      ],
      "metadata": {
        "colab": {
          "base_uri": "https://localhost:8080/",
          "height": 449
        },
        "id": "8dy8MpPc1NBN",
        "outputId": "76f7f1fe-f705-4535-e58a-62a865ec26ca"
      },
      "execution_count": null,
      "outputs": [
        {
          "output_type": "display_data",
          "data": {
            "text/plain": [
              "<Figure size 640x480 with 1 Axes>"
            ],
            "image/png": "[encoded data removed]"
          },
          "metadata": {}
        }
      ]
    },
    {
      "cell_type": "markdown",
      "source": [
        "## В логарифмическом масштабе"
      ],
      "metadata": {
        "id": "OP3iZP1y5ce1"
      }
    },
    {
      "cell_type": "code",
      "source": [
        "n_allumini_log = np.log(N_0 / n_allumini_time_norm)\n",
        "n_iron_log = np.log(N_0 / n_iron_time_norm)\n",
        "n_plumbum_log = np.log(N_0 / n_plumbum_time_norm)"
      ],
      "metadata": {
        "id": "BgCK8VGs1VR0"
      },
      "execution_count": null,
      "outputs": []
    },
    {
      "cell_type": "code",
      "source": [
        "n_allumini_log"
      ],
      "metadata": {
        "colab": {
          "base_uri": "https://localhost:8080/"
        },
        "id": "2S4W__4k6U5N",
        "outputId": "84d299cd-317b-4311-f480-9a3fb1f0e1a0"
      },
      "execution_count": null,
      "outputs": [
        {
          "output_type": "execute_result",
          "data": {
            "text/plain": [
              "array([0.42255665, 1.09006868, 1.26531525, 1.66576846, 2.07112616])"
            ]
          },
          "metadata": {},
          "execution_count": 311
        }
      ]
    },
    {
      "cell_type": "code",
      "source": [
        "class MNK_info:\n",
        "    def __init__ (self, k = 0, b = 0, sigma_k = 0, sigma_b = 0):\n",
        "        self.k = k\n",
        "        self.b = b\n",
        "        self.sigma_k = sigma_k\n",
        "        self.sigma_b = sigma_b\n",
        "\n",
        "    def Print (self):\n",
        "        print (\"\\t\" + \"k = \" + str (self.k),\n",
        "               \"\\t\" + \"b = \" + str (self.b),\n",
        "               \"\\t\" + \"sigma_k = \" + str (self.sigma_k),\n",
        "               \"\\t\" + \"sigma_b = \" + str (self.sigma_b),\n",
        "               sep = \"\\n\")\n",
        "\n",
        "def MNK (x, y):\n",
        "    mid = lambda mass: sum (mass) / len (mass)\n",
        "\n",
        "    # y = k * x + b\n",
        "    mid_xy = [x[i] * y[i] for i in range (len (x))]\n",
        "    mid_xy = mid (mid_xy)\n",
        "\n",
        "    mid_x_pow2 = [x_i ** 2 for x_i in x]\n",
        "    mid_x_pow2 = mid (mid_x_pow2)\n",
        "\n",
        "    mid_y_pow2 = [y_i ** 2 for y_i in y]\n",
        "    mid_y_pow2 = mid (mid_y_pow2)\n",
        "\n",
        "    mid_y = mid (y)\n",
        "    mid_x = mid (x)\n",
        "\n",
        "    k = (mid_xy - mid_x * mid_y ) / (mid_x_pow2 - mid_x ** 2)\n",
        "    b = mid_y - k * mid_x\n",
        "\n",
        "    sigma_k = 1 / np.sqrt (len  (x)) * np.sqrt ((mid_y_pow2 - mid_y ** 2) / (mid_x_pow2 - mid_x ** 2) - k ** 2)\n",
        "    sigma_b = sigma_k * np.sqrt (mid_x_pow2 - mid_x ** 2)\n",
        "\n",
        "    return MNK_info (k, b, sigma_k, sigma_b)"
      ],
      "metadata": {
        "id": "3KOesBBxCsBN"
      },
      "execution_count": null,
      "outputs": []
    },
    {
      "cell_type": "code",
      "source": [
        "fig = plt.figure(figsize=(8, 9))\n",
        "\n",
        "def error(value):\n",
        "    return np.sqrt( ( np.sqrt(value) / value )**2 + ( np.sqrt(N_0) / N_0) **2)\n",
        "\n",
        "    # return np.sqrt(error_of_sequence(seq) ** 2 + error_of_sequence(sourse_data / 60)**2)\n",
        "\n",
        "def draw_line(x, y, label):\n",
        "    mnk_info = MNK(x, y)\n",
        "    X_data = np.arange(x.min(), x.max(), (x.max() - x.min()) / ( 10 * x.size ))\n",
        "    Y_data = mnk_info.k * X_data + mnk_info.b\n",
        "    plt.plot(X_data, Y_data, label=label)\n",
        "\n",
        "    return mnk_info\n",
        "\n",
        "def print_coef(mnk_info, name):\n",
        "    print(f\"{name}: k={mnk_info.k:.4f} +/- {mnk_info.sigma_k:.4f}; b={mnk_info.b:.4f} +/- {mnk_info.sigma_b:.4f}\")\n",
        "\n",
        "plt.errorbar(thickness_allumini, n_allumini_log, xerr=0.1, yerr=[error(val) for val in n_allumini_time_norm], fmt=\".\", ecolor='black', label=\"Аллюминий\")\n",
        "info_al = draw_line(thickness_allumini, n_allumini_log, \"аппрокс. Аллюминий\")\n",
        "print_coef (info_al, \"Аллюминий\")\n",
        "\n",
        "plt.errorbar(thickness_iron, n_iron_log, xerr=0.1, yerr=[error(val) for val in n_iron_time_norm], fmt=\".\",  ecolor='black', label=\"Железо\")\n",
        "info_ir = draw_line(thickness_iron, n_iron_log, \"аппрокс. Железо\")\n",
        "print_coef (info_ir, \"Железо\")\n",
        "\n",
        "plt.errorbar(thickness_plumbum, n_plumbum_log, xerr=0.1, yerr=[error(val) for val in n_plumbum_time_norm], fmt=\".\", ecolor='black',  label=\"Свинец\")\n",
        "info_pb = draw_line(thickness_plumbum, n_plumbum_log, \"аппрокс. Свинец\")\n",
        "print_coef (info_pb, \"Свинец\")\n",
        "\n",
        "plt.grid()\n",
        "plt.xlabel(\"l, мм.\")\n",
        "plt.ylabel(\"$log(\\dfrac{N}{N_O})$\")\n",
        "plt.legend()\n",
        "\n",
        "plt.savefig(\"all_samples_log.png\")\n",
        "plt.show()"
      ],
      "metadata": {
        "colab": {
          "base_uri": "https://localhost:8080/",
          "height": 825
        },
        "id": "sCCIGOHS5tVG",
        "outputId": "9b50b051-dc38-4cde-f800-4123e28017b6"
      },
      "execution_count": null,
      "outputs": [
        {
          "output_type": "stream",
          "name": "stdout",
          "text": [
            "Аллюминий: k=0.0194 +/- 0.0015; b=0.1357 +/- 0.0413\n",
            "Железо: k=0.0569 +/- 0.0002; b=-0.0267 +/- 0.0030\n",
            "Свинец: k=0.1158 +/- 0.0005; b=0.0470 +/- 0.0037\n"
          ]
        },
        {
          "output_type": "display_data",
          "data": {
            "text/plain": [
              "<Figure size 800x900 with 1 Axes>"
            ],
            "image/png": "[encoded data removed]"
          },
          "metadata": {}
        }
      ]
    },
    {
      "cell_type": "code",
      "source": [],
      "metadata": {
        "id": "_SZjzmcFGhit"
      },
      "execution_count": null,
      "outputs": []
    }
  ]
}