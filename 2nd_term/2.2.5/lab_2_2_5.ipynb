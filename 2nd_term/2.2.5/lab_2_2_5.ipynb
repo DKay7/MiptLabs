{
  "nbformat": 4,
  "nbformat_minor": 0,
  "metadata": {
    "colab": {
      "name": "lab_2_2_5.ipynb",
      "provenance": []
    },
    "kernelspec": {
      "name": "python3",
      "display_name": "Python 3"
    },
    "language_info": {
      "name": "python"
    }
  },
  "cells": [
    {
      "cell_type": "code",
      "execution_count": 95,
      "metadata": {
        "id": "hJjTPdfReju-"
      },
      "outputs": [],
      "source": [
        "import numpy as np\n",
        "import matplotlib.pyplot as plt\n",
        "from collections import namedtuple\n",
        "from sklearn.linear_model import LinearRegression, LogisticRegression"
      ]
    },
    {
      "cell_type": "code",
      "source": [
        "delta_h     = 1.17  # cm.\n",
        "eta_water   = 0.01  # Puaz\n",
        "rho_water   = 1     # g / сm^3\n",
        "g           = 980   # cm / s^2\n",
        "R           = 0.05  # cm (диаметр капилляра)\n",
        "l           = 13.7  # cm (длина капилляра)\n",
        "sigm_V = 1          # cm^3\n",
        "sigm_t = 1          # sec.\n",
        "sigm_h = 0.05       # сm\n",
        "sigm_R = 0.0005      # cm\n",
        "sigm_l = 0.1        # cm"
      ],
      "metadata": {
        "id": "qq9-hVqBgBRe"
      },
      "execution_count": 431,
      "outputs": []
    },
    {
      "cell_type": "code",
      "source": [
        "Experiment = namedtuple (\"Experiment\", \"h time V\")"
      ],
      "metadata": {
        "id": "SwWo68lGkBa2"
      },
      "execution_count": 432,
      "outputs": []
    },
    {
      "cell_type": "code",
      "source": [
        "Q = 20 / 222\n",
        "(5.12 - delta_h) * rho_water * g * R**4 * np.pi / (8 * Q * l)  "
      ],
      "metadata": {
        "colab": {
          "base_uri": "https://localhost:8080/"
        },
        "id": "ZWniuVylRNgu",
        "outputId": "daadd941-1e53-43a3-e45a-ff795b4294a7"
      },
      "execution_count": 433,
      "outputs": [
        {
          "output_type": "execute_result",
          "data": {
            "text/plain": [
              "0.007697779841395508"
            ]
          },
          "metadata": {},
          "execution_count": 433
        }
      ]
    },
    {
      "cell_type": "code",
      "source": [
        "# each element is h (cм), t (с.), V (cm^3)\n",
        "data = [Experiment(3.07, 709, 20),\n",
        "        Experiment(7.05, 164, 20),\n",
        "        Experiment(3.41, 434, 20),\n",
        "        Experiment(4.73, 275, 20),\n",
        "        Experiment(5.12, 222, 20),\n",
        "        Experiment(4.0,  315, 20)]\n",
        "        \n",
        "data.sort (key = lambda exp: exp.h)\n",
        "\n",
        "h_in_all_experiments =  list (map(lambda ex: ex.h,              data))\n",
        "t_in_all_experiments =  list (map(lambda ex: ex,                data))\n",
        "v_in_all_experiments =  list (map(lambda ex: ex.V,              data))\n",
        "Q_in_all_experiments =  list (map(lambda ex: count_Q(ex),       data))\n",
        "\n",
        "all_Q_sigmas = list (map(lambda ex: count_Q(ex) * (sigm_V / ex.V + sigm_t / ex.time),   data)) "
      ],
      "metadata": {
        "id": "WDbRcolSe8_D"
      },
      "execution_count": 434,
      "outputs": []
    },
    {
      "cell_type": "code",
      "source": [
        "def get_delta_p (h):\n",
        "    return (h  - delta_h) * rho_water * g"
      ],
      "metadata": {
        "id": "Vbr4j-ICl9hM"
      },
      "execution_count": 435,
      "outputs": []
    },
    {
      "cell_type": "code",
      "source": [
        "def count_rendols_number(experiment):\n",
        "    return (experiment.V * rho_water) / (np.pi * R * eta_water * experiment.time)"
      ],
      "metadata": {
        "id": "_Up-VWQdljrD"
      },
      "execution_count": 436,
      "outputs": []
    },
    {
      "cell_type": "code",
      "source": [
        "def count_a (experiment):\n",
        "    re_num = count_rendols_number (experiment)\n",
        "    return 0.2 * R * re_num"
      ],
      "metadata": {
        "id": "FeeychcWoEbH"
      },
      "execution_count": 437,
      "outputs": []
    },
    {
      "cell_type": "code",
      "source": [
        "def count_Q (experiment):\n",
        "    return experiment.V / experiment.time"
      ],
      "metadata": {
        "id": "u4bn3Wu4sUMR"
      },
      "execution_count": 438,
      "outputs": []
    },
    {
      "cell_type": "code",
      "source": [
        "for exp in data:\n",
        "    print (f\"{exp.h}\\t&\\t{exp.time}\\t&\\t{exp.V}\\t&\\t{count_Q(exp):.4f}\\t&\\t{count_rendols_number (exp):.3f}\\t&\\t{count_a (exp):.3f}\\t\\\\\\\\\")\n",
        "\n",
        "print (\"\\\\hline\")"
      ],
      "metadata": {
        "colab": {
          "base_uri": "https://localhost:8080/"
        },
        "id": "ZFDz4UK8ksc3",
        "outputId": "73bff941-80c5-4303-d1ef-847a8799588b"
      },
      "execution_count": 439,
      "outputs": [
        {
          "output_type": "stream",
          "name": "stdout",
          "text": [
            "3.07\t&\t709\t&\t20\t&\t0.0282\t&\t17.958\t&\t0.180\t\\\\\n",
            "3.41\t&\t434\t&\t20\t&\t0.0461\t&\t29.337\t&\t0.293\t\\\\\n",
            "4.0\t&\t315\t&\t20\t&\t0.0635\t&\t40.420\t&\t0.404\t\\\\\n",
            "4.73\t&\t275\t&\t20\t&\t0.0727\t&\t46.300\t&\t0.463\t\\\\\n",
            "5.12\t&\t222\t&\t20\t&\t0.0901\t&\t57.353\t&\t0.574\t\\\\\n",
            "7.05\t&\t164\t&\t20\t&\t0.1220\t&\t77.637\t&\t0.776\t\\\\\n",
            "\\hline\n"
          ]
        }
      ]
    },
    {
      "cell_type": "code",
      "source": [
        "from sklearn import linear_model\n",
        "def plot_Q_h (plt):\n",
        "\n",
        "    X_data = np.array(h_in_all_experiments).reshape(-1, 1)\n",
        "    Y_data = np.array(Q_in_all_experiments)\n",
        "    model = LinearRegression().fit (X_data, Y_data)\n",
        "\n",
        "    X_data_for_plot = np.arange (0, X_data.max() + 1, 0.25)\n",
        "    Y_data_for_plot = model.predict (X_data_for_plot.reshape(-1, 1))\n",
        "    plt.plot (X_data_for_plot, Y_data_for_plot, linestyle=\"--\", label=\"Аппроксимация зависимости Q(h)\")\n",
        "    plt.scatter (h_in_all_experiments, Q_in_all_experiments, marker = \"+\", color = \"green\", label=\"Экспериментальные данные\")\n",
        "    plt.errorbar(h_in_all_experiments, Q_in_all_experiments, xerr=sigm_h, yerr=all_Q_sigmas, fmt='none', color=\"green\")\n",
        "\n",
        "    return model.coef_, model.intercept_"
      ],
      "metadata": {
        "id": "66cvVBw3oX-W"
      },
      "execution_count": 440,
      "outputs": []
    },
    {
      "cell_type": "code",
      "source": [
        "fig = plt.figure (figsize=(15, 12))\n",
        "plt.xticks (np.arange (0, 8.6, 0.5))\n",
        "plt.yticks (np.arange (-0.06, 0.150, 0.01))\n",
        "plt.grid ()\n",
        "plt.ylabel (\"Q, см³ / с. \")\n",
        "plt.xlabel (\"h, см\")\n",
        "model_coef, model_intercept = plot_Q_h(plt)\n",
        "plt.legend()\n",
        "# plt.show()\n",
        "plt.savefig(\"graph.png\")"
      ],
      "metadata": {
        "colab": {
          "base_uri": "https://localhost:8080/",
          "height": 714
        },
        "id": "QqQC6tvNuYGj",
        "outputId": "5cbdbcbd-1226-4203-c51b-63ede1dad425"
      },
      "execution_count": 441,
      "outputs": [
        {
          "output_type": "display_data",
          "data": {
            "text/plain": [
              "<Figure size 1080x864 with 1 Axes>"
            ],
            "image/png": "[encoded data removed]"
          },
          "metadata": {
            "needs_background": "light"
          }
        }
      ]
    },
    {
      "cell_type": "code",
      "source": [
        "experimental_delta_h = (-model_intercept / model_coef)[0]"
      ],
      "metadata": {
        "id": "s3MKYAnZuZPP"
      },
      "execution_count": 442,
      "outputs": []
    },
    {
      "cell_type": "code",
      "source": [
        "experimental_delta_h, experimental_delta_h - delta_h "
      ],
      "metadata": {
        "colab": {
          "base_uri": "https://localhost:8080/"
        },
        "id": "83p9z_A908wj",
        "outputId": "d7ab5062-4998-4777-9495-cb3671fdbf4c"
      },
      "execution_count": 443,
      "outputs": [
        {
          "output_type": "execute_result",
          "data": {
            "text/plain": [
              "(1.4401323329160083, 0.27013233291600836)"
            ]
          },
          "metadata": {},
          "execution_count": 443
        }
      ]
    },
    {
      "cell_type": "code",
      "source": [
        "def count_eta (line_coef):\n",
        "    eta = (np.pi * R**4 * rho_water * g) / (8 * l * line_coef)\n",
        "    sigm_eta = eta * np.sqrt ((sigm_h / np.mean (h_in_all_experiments))**2 + 16 * (sigm_R / R)**2 + (sigm_l / l)**2)\n",
        "    return eta, sigm_eta"
      ],
      "metadata": {
        "id": "qU_610WE1oDP"
      },
      "execution_count": 444,
      "outputs": []
    },
    {
      "cell_type": "code",
      "source": [
        "model_coef[0]"
      ],
      "metadata": {
        "colab": {
          "base_uri": "https://localhost:8080/"
        },
        "id": "KiWEiXj4Vb4Y",
        "outputId": "e4b64229-92b6-45e8-d61a-5f31f68a4de2"
      },
      "execution_count": 445,
      "outputs": [
        {
          "output_type": "execute_result",
          "data": {
            "text/plain": [
              "0.022549105857781578"
            ]
          },
          "metadata": {},
          "execution_count": 445
        }
      ]
    },
    {
      "cell_type": "code",
      "source": [
        "count_eta (model_coef[0])"
      ],
      "metadata": {
        "colab": {
          "base_uri": "https://localhost:8080/"
        },
        "id": "67QMHF2EOSf3",
        "outputId": "df1fedce-47bc-447e-cfd1-03dcec327b31"
      },
      "execution_count": 446,
      "outputs": [
        {
          "output_type": "execute_result",
          "data": {
            "text/plain": [
              "(0.007786030240393954, 0.0003278772183211855)"
            ]
          },
          "metadata": {},
          "execution_count": 446
        }
      ]
    },
    {
      "cell_type": "code",
      "source": [
        ""
      ],
      "metadata": {
        "id": "YJ6PIg5IUZ5i"
      },
      "execution_count": 446,
      "outputs": []
    }
  ]
}