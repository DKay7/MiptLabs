{
  "nbformat": 4,
  "nbformat_minor": 0,
  "metadata": {
    "colab": {
      "provenance": []
    },
    "kernelspec": {
      "name": "python3",
      "display_name": "Python 3"
    },
    "language_info": {
      "name": "python"
    }
  },
  "cells": [
    {
      "cell_type": "code",
      "source": [
        "import numpy as np\n",
        "import matplotlib.pyplot as plt"
      ],
      "metadata": {
        "id": "jRataGXBIOMV"
      },
      "execution_count": 3,
      "outputs": []
    },
    {
      "cell_type": "markdown",
      "source": [
        "# I. Расчет периода решеток"
      ],
      "metadata": {
        "id": "BnwkGAQdIxID"
      }
    },
    {
      "cell_type": "code",
      "execution_count": 207,
      "metadata": {
        "id": "sNVZt91HHCff"
      },
      "outputs": [],
      "source": [
        "H = 1.2 # расстояние от решетки до экрана, м.\n",
        "lambda_wave = 532 / 10**9 # м.\n",
        "grid_nums = np.array([1, 2, 3, 4, 5])\n",
        "image_period = np.array([30, 22.5, 12, 5, 3.7]) / 1000  # период изображения, м.\n",
        "angles = image_period / H # приближенные диффракционные углы\n",
        "real_periods = lambda_wave / angles # период диффракц. решетки, м."
      ]
    },
    {
      "cell_type": "code",
      "source": [
        "real_periods * 1000"
      ],
      "metadata": {
        "colab": {
          "base_uri": "https://localhost:8080/"
        },
        "id": "ad4MGZJHJKF8",
        "outputId": "6d72e031-de63-47eb-8433-7c652de8a3d1"
      },
      "execution_count": 208,
      "outputs": [
        {
          "output_type": "execute_result",
          "data": {
            "text/plain": [
              "array([0.02128   , 0.02837333, 0.0532    , 0.12768   , 0.17254054])"
            ]
          },
          "metadata": {},
          "execution_count": 208
        }
      ]
    },
    {
      "cell_type": "markdown",
      "source": [
        "## строим табличку для латеха"
      ],
      "metadata": {
        "id": "dS_pCm0eKZ--"
      }
    },
    {
      "cell_type": "code",
      "source": [
        "# период изображения, угол, период решетки, все в мм.\n",
        "print('''\n",
        "\\\\begin{table}[h]\n",
        "\\\\centering\n",
        "\\\\begin{tabular}{|c|c|c|}\n",
        "\\\\hline ''')\n",
        "print(\"Номер решетки & Период изображения, мм. & Период решетки, мм. \\\\\\ \\\\hline\")\n",
        "\n",
        "for grid_num, img_period, real_period in zip(grid_nums, image_period, real_periods):\n",
        "    print(f\"{grid_num} & {(img_period * 1000):.1f} & {(real_period * 1000):.4f} \\\\\\ \\\\hline\")\n",
        "\n",
        "print('''\n",
        "\\end{tabular}\n",
        "\\caption{Результаты вычислений периодов решеток по картине спектра}\n",
        "\\label{tabl:periods}\n",
        "\\end{table}\n",
        "''')\n",
        "\n"
      ],
      "metadata": {
        "colab": {
          "base_uri": "https://localhost:8080/"
        },
        "id": "9rP3RTTtKZbR",
        "outputId": "853cddf2-35f5-4544-cff0-7c4b0b97f4bf"
      },
      "execution_count": 61,
      "outputs": [
        {
          "output_type": "stream",
          "name": "stdout",
          "text": [
            "\n",
            "\\begin{table}[h]\n",
            "\\centering\n",
            "\\begin{tabular}{|c|c|c|}\n",
            "\\hline \n",
            "Номер решетки & Период изображения, мм. & Период решетки, мм. \\\\ \\hline\n",
            "1 & 30.0 & 0.0213 \\\\ \\hline\n",
            "2 & 22.5 & 0.0284 \\\\ \\hline\n",
            "3 & 12.0 & 0.0532 \\\\ \\hline\n",
            "4 & 5.0 & 0.1277 \\\\ \\hline\n",
            "5 & 3.7 & 0.1725 \\\\ \\hline\n",
            "\n",
            "\\end{tabular}\n",
            "\\caption{Результаты вычислений периодов решеток по картине спектра}\n",
            "\\label{tabl:periods}\n",
            "\\end{table}\n",
            "\n"
          ]
        }
      ]
    },
    {
      "cell_type": "markdown",
      "source": [
        "# II. Расчет периода решеток через увеличение микроскопа"
      ],
      "metadata": {
        "id": "YYQ7P0WhR2jt"
      }
    },
    {
      "cell_type": "code",
      "source": [
        "# Расстояния с чертежа в метрах\n",
        "\n",
        "a1 = 190 / 1000\n",
        "a2 = 25 / 1000\n",
        "b1 = 512 / 1000 - a2\n",
        "b2 = 775 / 1000\n",
        "\n",
        "G = b1*b2 / (a1 * a2) # увеличение микроскопа\n",
        "\n",
        "image_periods_microscope = np.array([1, 2, 3.3, 6, 9]) / 1000 # периоды изображений через микроском, м.\n",
        "\n",
        "real_periods_microscope = image_periods_microscope / G # периоды сеток, м."
      ],
      "metadata": {
        "id": "e_Gdy8NXIcO7"
      },
      "execution_count": 73,
      "outputs": []
    },
    {
      "cell_type": "markdown",
      "source": [
        "## строим табличку для латеха"
      ],
      "metadata": {
        "id": "B86Hiw1RUTob"
      }
    },
    {
      "cell_type": "code",
      "source": [
        "# период изображения, угол, период решетки, все в мм.\n",
        "print('''\n",
        "\\\\begin{table}[h]\n",
        "\\\\centering\n",
        "\\\\begin{tabular}{|c|c|c|}\n",
        "\\\\hline ''')\n",
        "print(\"Номер решетки & Период изображения, мм. & Период решетки, мм. \\\\\\ \\\\hline\")\n",
        "\n",
        "for grid_num, img_period, real_period in zip(grid_nums, image_periods_microscope, real_periods_microscope):\n",
        "    print(f\"{grid_num} & {(img_period * 1000):.1f} & {(real_period * 1000):.4f} \\\\\\ \\\\hline\")\n",
        "\n",
        "print('''\n",
        "\\end{tabular}\n",
        "\\caption{Результаты вычислений периодов решеток по увеличенному изображению}\n",
        "\\label{tabl:periods_microscope}\n",
        "\\end{table}\n",
        "''')\n"
      ],
      "metadata": {
        "colab": {
          "base_uri": "https://localhost:8080/"
        },
        "id": "0wyflR4BSWGc",
        "outputId": "d5cb8e9c-c770-4089-a95e-93b8627480b9"
      },
      "execution_count": 74,
      "outputs": [
        {
          "output_type": "stream",
          "name": "stdout",
          "text": [
            "\n",
            "\\begin{table}[h]\n",
            "\\centering\n",
            "\\begin{tabular}{|c|c|c|}\n",
            "\\hline \n",
            "Номер решетки & Период изображения, мм. & Период решетки, мм. \\\\ \\hline\n",
            "1 & 1.0 & 0.0126 \\\\ \\hline\n",
            "2 & 2.0 & 0.0252 \\\\ \\hline\n",
            "3 & 3.3 & 0.0415 \\\\ \\hline\n",
            "4 & 6.0 & 0.0755 \\\\ \\hline\n",
            "5 & 9.0 & 0.1133 \\\\ \\hline\n",
            "\n",
            "\\end{tabular}\n",
            "\\caption{Результаты вычислений периодов решеток по увеличенному изображению}\n",
            "\\label{tabl:periods_microscope}\n",
            "\\end{table}\n",
            "\n"
          ]
        }
      ]
    },
    {
      "cell_type": "markdown",
      "source": [
        "# III. Определение периода решеток с помощью критерия Риэля."
      ],
      "metadata": {
        "id": "SMIcmHZKWrtX"
      }
    },
    {
      "cell_type": "code",
      "source": [
        "min_diaphragmas = np.array([4, 4, 2.55, 1.6, 1.1]) / 1000 # наименьшие размеры диафрагмы для каждой решетки, м.\n",
        "focus = 110 / 1000 # фокусное расстояние линзы, м.\n",
        "\n",
        "periods_riel = (2 * focus * lambda_wave) / min_diaphragmas\n",
        "periods_riel * 1000"
      ],
      "metadata": {
        "colab": {
          "base_uri": "https://localhost:8080/"
        },
        "id": "psO6JtbBUo_2",
        "outputId": "6a0f1d86-832a-4226-8975-b924e948b408"
      },
      "execution_count": 179,
      "outputs": [
        {
          "output_type": "execute_result",
          "data": {
            "text/plain": [
              "array([0.02926   , 0.02926   , 0.04589804, 0.07315   , 0.1064    ])"
            ]
          },
          "metadata": {},
          "execution_count": 179
        }
      ]
    },
    {
      "cell_type": "markdown",
      "source": [
        "## строим табличку для латеха"
      ],
      "metadata": {
        "id": "TH9KEzezaSch"
      }
    },
    {
      "cell_type": "code",
      "source": [
        "# период изображения, угол, период решетки, все в мм.\n",
        "print('''\n",
        "\\\\begin{table}[h]\n",
        "\\\\centering\n",
        "\\\\begin{tabular}{|c|c|c|}\n",
        "\\\\hline ''')\n",
        "print(\"Номер решетки & Минимальный размер диафрагмы, мм. & Период решетки, мм. \\\\\\ \\\\hline\")\n",
        "\n",
        "for grid_num, img_period, real_period in zip(grid_nums, min_diaphragmas, real_periods_microscope):\n",
        "    print(f\"{grid_num} & {(img_period * 1000):.1f} & {(real_period * 1000):.4f} \\\\\\ \\\\hline\")\n",
        "\n",
        "print('''\n",
        "\\end{tabular}\n",
        "\\caption{Результаты вычислений периодов решеток по критерию Риэля}\n",
        "\\label{tabl:periods_riel}\n",
        "\\end{table}\n",
        "''')\n"
      ],
      "metadata": {
        "colab": {
          "base_uri": "https://localhost:8080/"
        },
        "id": "agCkUSy6XqQZ",
        "outputId": "cd70d472-281f-468f-fd1b-d11b742b738d"
      },
      "execution_count": 113,
      "outputs": [
        {
          "output_type": "stream",
          "name": "stdout",
          "text": [
            "\n",
            "\\begin{table}[h]\n",
            "\\centering\n",
            "\\begin{tabular}{|c|c|c|}\n",
            "\\hline \n",
            "Номер решетки & Минимальный размер диафрагмы, мм. & Период решетки, мм. \\\\ \\hline\n",
            "1 & 4.0 & 0.0126 \\\\ \\hline\n",
            "2 & 4.0 & 0.0252 \\\\ \\hline\n",
            "3 & 2.5 & 0.0415 \\\\ \\hline\n",
            "4 & 1.6 & 0.0755 \\\\ \\hline\n",
            "5 & 1.1 & 0.1133 \\\\ \\hline\n",
            "\n",
            "\\end{tabular}\n",
            "\\caption{Результаты вычислений периодов решеток по критерию Риэля}\n",
            "\\label{tabl:periods_riel}\n",
            "\\end{table}\n",
            "\n"
          ]
        }
      ]
    },
    {
      "cell_type": "markdown",
      "source": [
        "# IV. Пространственная мультипликация"
      ],
      "metadata": {
        "id": "Q1y6t9yWeMXD"
      }
    },
    {
      "cell_type": "code",
      "source": [
        "d_horisontal = 12 / 1000 # период изображения решетки при горизонтальном расположении щели \n",
        "d_vertical   = 12 / 1000 # период изображения решетки при вертикальном расположении щели \n",
        "d_diagonal   = 8  / 1000 # период изображения решетки при диагональном (45 градусов) расположении щели \n",
        "\n"
      ],
      "metadata": {
        "id": "tvyD37aWeP3Y"
      },
      "execution_count": null,
      "outputs": []
    },
    {
      "cell_type": "markdown",
      "source": [
        "# V. Проверяем теорию Аббе\n",
        "Для ее проверки построим график d = f(1 / D) где d взято из 1-го пункта "
      ],
      "metadata": {
        "id": "gCAyxBo4b5-8"
      }
    },
    {
      "cell_type": "code",
      "source": [
        "import numpy as np\n",
        "import matplotlib.pyplot as plt\n",
        "\n",
        "# Данные по D и d\n",
        "D = min_diaphragmas[1:] * 1000 / 2 # оно не сходится ровно в 2 раза, я где-то видимо ошибся (возможно в опыте использовал линзу с фокусом 25), думать буду потом, а пока так.\n",
        "d = real_periods[1:] * 1000\n",
        "\n",
        "# Переводим D в 1/D\n",
        "invD = 1 / D\n",
        "\n",
        "# Оценка коэффициентов методом наименьших квадратов\n",
        "a, b = np.polyfit(invD, d, 1)\n",
        "\n",
        "# Вычисление приближенных значений d по формуле d = f(1/D) = a * 1/D + b\n",
        "d_approx = a * invD + b\n",
        "\n",
        "# Вычисление точек для построения графика\n",
        "min_D = np.min(D)\n",
        "max_D = np.max(D)\n",
        "x = np.linspace(1 / max_D, 1 / min_D, 100)\n",
        "y = a * x + b\n",
        "\n",
        "# Построение графика\n",
        "plt.plot(invD, d, 'ro', label='Исходные данные')\n",
        "plt.plot(x, y, 'b-', label=f'Аппроксимация d = {a:.2f} / D {\"+\" if b > 0 else \"-\"} {abs(b):.2f}')\n",
        "plt.xlabel('1/D, 1/мм ')\n",
        "plt.ylabel('d, мм.')\n",
        "plt.legend()\n",
        "plt.grid(which=\"both\")\n",
        "plt.savefig(\"abbe_graph.png\")\n",
        "plt.show()\n"
      ],
      "metadata": {
        "colab": {
          "base_uri": "https://localhost:8080/",
          "height": 279
        },
        "id": "73FYZPwbaUoV",
        "outputId": "8e3ac7ff-bc41-424c-9ca6-4435677ad455"
      },
      "execution_count": 210,
      "outputs": [
        {
          "output_type": "display_data",
          "data": {
            "text/plain": [
              "<Figure size 432x288 with 1 Axes>"
            ],
            "image/png": "[encoded data removed]"
          },
          "metadata": {
            "needs_background": "light"
          }
        }
      ]
    },
    {
      "cell_type": "markdown",
      "source": [
        "Посчитаем экспериментальный и точный коэффициенты"
      ],
      "metadata": {
        "id": "wvtpUqeqezaQ"
      }
    },
    {
      "cell_type": "code",
      "source": [
        "a"
      ],
      "metadata": {
        "colab": {
          "base_uri": "https://localhost:8080/"
        },
        "id": "mBQSnjlZezAM",
        "outputId": "0cffeb12-babb-4af1-f778-db4e1f07cffd"
      },
      "execution_count": 211,
      "outputs": [
        {
          "output_type": "execute_result",
          "data": {
            "text/plain": [
              "0.1140822315932863"
            ]
          },
          "metadata": {},
          "execution_count": 211
        }
      ]
    },
    {
      "cell_type": "code",
      "source": [
        "2 * focus * lambda_wave * 1e6"
      ],
      "metadata": {
        "colab": {
          "base_uri": "https://localhost:8080/"
        },
        "id": "_I3ACSLYckbs",
        "outputId": "f2edfef7-4f5c-4926-a8a9-0e413c0512d4"
      },
      "execution_count": 180,
      "outputs": [
        {
          "output_type": "execute_result",
          "data": {
            "text/plain": [
              "0.11704"
            ]
          },
          "metadata": {},
          "execution_count": 180
        }
      ]
    },
    {
      "cell_type": "code",
      "source": [],
      "metadata": {
        "id": "4zjcywbufmY6"
      },
      "execution_count": null,
      "outputs": []
    }
  ]
}