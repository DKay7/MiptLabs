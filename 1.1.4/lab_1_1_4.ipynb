{
  "nbformat": 4,
  "nbformat_minor": 0,
  "metadata": {
    "colab": {
      "name": "lab_1_1_4.ipynb",
      "provenance": []
    },
    "kernelspec": {
      "name": "python3",
      "display_name": "Python 3"
    },
    "language_info": {
      "name": "python"
    }
  },
  "cells": [
    {
      "cell_type": "code",
      "metadata": {
        "id": "qDYHCZlmPUq4"
      },
      "source": [
        "a = \\\n",
        "\"\"\"31 & 43 & 22 & 21 & 22 & 31 & 33 & 30 & 21 & 25\n",
        "26 & 34 & 26 & 29 & 32 & 32 & 30 & 28 & 28 & 28\n",
        "20 & 26 & 16 & 25 & 29 & 34 & 29 & 30 & 31 & 26\n",
        "28 & 38 & 30 & 20 & 22 & 24 & 29 & 30 & 20 & 21\n",
        "27 & 24 & 37 & 25 & 31 & 34 & 37 & 23 & 23 & 28\n",
        "25 & 32 & 38 & 21 & 33 & 41 & 25 & 31 & 21 & 30\n",
        "18 & 29 & 24 & 38 & 19 & 37 & 30 & 26 & 25 & 42\n",
        "23 & 23 & 30 & 22 & 25 & 28 & 25 & 26 & 18 & 36\n",
        "26 & 20 & 25 & 32 & 22 & 41 & 34 & 23 & 26 & 22\n",
        "30 & 27 & 26 & 34 & 26 & 34 & 36 & 15 & 23 & 29\n",
        "27 & 29 & 15 & 24 & 29 & 36 & 34 & 35 & 27 & 31\n",
        "26 & 42 & 24 & 36 & 26 & 29 & 30 & 23 & 28 & 30\n",
        "36 & 26 & 27 & 30 & 24 & 28 & 24 & 20 & 30 & 25\n",
        "24 & 29 & 26 & 13 & 21 & 19 & 23 & 34 & 26 & 28\n",
        "25 & 25 & 24 & 34 & 28 & 25 & 29 & 27 & 29 & 30\n",
        "24 & 33 & 33 & 26 & 33 & 16 & 35 & 25 & 28 & 29\n",
        "30 & 21 & 18 & 31 & 19 & 37 & 27 & 20 & 22 & 32\n",
        "31 & 34 & 28 & 17 & 24 & 35 & 20 & 33 & 20 & 19\n",
        "28 & 25 & 31 & 40 & 24 & 29 & 24 & 24 & 28 & 32\n",
        "27 & 34 & 27 & 35 & 26 & 29 & 16 & 28 & 31 & 29\"\"\""
      ],
      "execution_count": null,
      "outputs": []
    },
    {
      "cell_type": "code",
      "metadata": {
        "colab": {
          "base_uri": "https://localhost:8080/"
        },
        "id": "26SrFEN_7gNg",
        "outputId": "4fe892bc-75cf-411d-9ab9-430c1d3b4e2b"
      },
      "source": [
        "a = a.split(\"\\n\")\n",
        "a"
      ],
      "execution_count": null,
      "outputs": [
        {
          "output_type": "execute_result",
          "data": {
            "text/plain": [
              "['31 & 43 & 22 & 21 & 22 & 31 & 33 & 30 & 21 & 25',\n",
              " '26 & 34 & 26 & 29 & 32 & 32 & 30 & 28 & 28 & 28',\n",
              " '20 & 26 & 16 & 25 & 29 & 34 & 29 & 30 & 31 & 26',\n",
              " '28 & 38 & 30 & 20 & 22 & 24 & 29 & 30 & 20 & 21',\n",
              " '27 & 24 & 37 & 25 & 31 & 34 & 37 & 23 & 23 & 28',\n",
              " '25 & 32 & 38 & 21 & 33 & 41 & 25 & 31 & 21 & 30',\n",
              " '18 & 29 & 24 & 38 & 19 & 37 & 30 & 26 & 25 & 42',\n",
              " '23 & 23 & 30 & 22 & 25 & 28 & 25 & 26 & 18 & 36',\n",
              " '26 & 20 & 25 & 32 & 22 & 41 & 34 & 23 & 26 & 22',\n",
              " '30 & 27 & 26 & 34 & 26 & 34 & 36 & 15 & 23 & 29',\n",
              " '27 & 29 & 15 & 24 & 29 & 36 & 34 & 35 & 27 & 31',\n",
              " '26 & 42 & 24 & 36 & 26 & 29 & 30 & 23 & 28 & 30',\n",
              " '36 & 26 & 27 & 30 & 24 & 28 & 24 & 20 & 30 & 25',\n",
              " '24 & 29 & 26 & 13 & 21 & 19 & 23 & 34 & 26 & 28',\n",
              " '25 & 25 & 24 & 34 & 28 & 25 & 29 & 27 & 29 & 30',\n",
              " '24 & 33 & 33 & 26 & 33 & 16 & 35 & 25 & 28 & 29',\n",
              " '30 & 21 & 18 & 31 & 19 & 37 & 27 & 20 & 22 & 32',\n",
              " '31 & 34 & 28 & 17 & 24 & 35 & 20 & 33 & 20 & 19',\n",
              " '28 & 25 & 31 & 40 & 24 & 29 & 24 & 24 & 28 & 32',\n",
              " '27 & 34 & 27 & 35 & 26 & 29 & 16 & 28 & 31 & 29']"
            ]
          },
          "metadata": {},
          "execution_count": 186
        }
      ]
    },
    {
      "cell_type": "code",
      "metadata": {
        "colab": {
          "base_uri": "https://localhost:8080/"
        },
        "id": "L44mv5Vc719Q",
        "outputId": "c216b531-d1bf-4ec5-f4c1-2e8cb65ccb1e"
      },
      "source": [
        "a = [el.split(\" & \") for el in a]\n",
        "a"
      ],
      "execution_count": null,
      "outputs": [
        {
          "output_type": "execute_result",
          "data": {
            "text/plain": [
              "[['31', '43', '22', '21', '22', '31', '33', '30', '21', '25'],\n",
              " ['26', '34', '26', '29', '32', '32', '30', '28', '28', '28'],\n",
              " ['20', '26', '16', '25', '29', '34', '29', '30', '31', '26'],\n",
              " ['28', '38', '30', '20', '22', '24', '29', '30', '20', '21'],\n",
              " ['27', '24', '37', '25', '31', '34', '37', '23', '23', '28'],\n",
              " ['25', '32', '38', '21', '33', '41', '25', '31', '21', '30'],\n",
              " ['18', '29', '24', '38', '19', '37', '30', '26', '25', '42'],\n",
              " ['23', '23', '30', '22', '25', '28', '25', '26', '18', '36'],\n",
              " ['26', '20', '25', '32', '22', '41', '34', '23', '26', '22'],\n",
              " ['30', '27', '26', '34', '26', '34', '36', '15', '23', '29'],\n",
              " ['27', '29', '15', '24', '29', '36', '34', '35', '27', '31'],\n",
              " ['26', '42', '24', '36', '26', '29', '30', '23', '28', '30'],\n",
              " ['36', '26', '27', '30', '24', '28', '24', '20', '30', '25'],\n",
              " ['24', '29', '26', '13', '21', '19', '23', '34', '26', '28'],\n",
              " ['25', '25', '24', '34', '28', '25', '29', '27', '29', '30'],\n",
              " ['24', '33', '33', '26', '33', '16', '35', '25', '28', '29'],\n",
              " ['30', '21', '18', '31', '19', '37', '27', '20', '22', '32'],\n",
              " ['31', '34', '28', '17', '24', '35', '20', '33', '20', '19'],\n",
              " ['28', '25', '31', '40', '24', '29', '24', '24', '28', '32'],\n",
              " ['27', '34', '27', '35', '26', '29', '16', '28', '31', '29']]"
            ]
          },
          "metadata": {},
          "execution_count": 187
        }
      ]
    },
    {
      "cell_type": "code",
      "metadata": {
        "colab": {
          "base_uri": "https://localhost:8080/"
        },
        "id": "anCvKCKK8eLA",
        "outputId": "8d39787c-5fea-4333-b9b0-c50572374a7b"
      },
      "source": [
        "a = list(map(lambda row: list(map(lambda el: int(el), row)), a))\n",
        "a"
      ],
      "execution_count": null,
      "outputs": [
        {
          "output_type": "execute_result",
          "data": {
            "text/plain": [
              "[[31, 43, 22, 21, 22, 31, 33, 30, 21, 25],\n",
              " [26, 34, 26, 29, 32, 32, 30, 28, 28, 28],\n",
              " [20, 26, 16, 25, 29, 34, 29, 30, 31, 26],\n",
              " [28, 38, 30, 20, 22, 24, 29, 30, 20, 21],\n",
              " [27, 24, 37, 25, 31, 34, 37, 23, 23, 28],\n",
              " [25, 32, 38, 21, 33, 41, 25, 31, 21, 30],\n",
              " [18, 29, 24, 38, 19, 37, 30, 26, 25, 42],\n",
              " [23, 23, 30, 22, 25, 28, 25, 26, 18, 36],\n",
              " [26, 20, 25, 32, 22, 41, 34, 23, 26, 22],\n",
              " [30, 27, 26, 34, 26, 34, 36, 15, 23, 29],\n",
              " [27, 29, 15, 24, 29, 36, 34, 35, 27, 31],\n",
              " [26, 42, 24, 36, 26, 29, 30, 23, 28, 30],\n",
              " [36, 26, 27, 30, 24, 28, 24, 20, 30, 25],\n",
              " [24, 29, 26, 13, 21, 19, 23, 34, 26, 28],\n",
              " [25, 25, 24, 34, 28, 25, 29, 27, 29, 30],\n",
              " [24, 33, 33, 26, 33, 16, 35, 25, 28, 29],\n",
              " [30, 21, 18, 31, 19, 37, 27, 20, 22, 32],\n",
              " [31, 34, 28, 17, 24, 35, 20, 33, 20, 19],\n",
              " [28, 25, 31, 40, 24, 29, 24, 24, 28, 32],\n",
              " [27, 34, 27, 35, 26, 29, 16, 28, 31, 29]]"
            ]
          },
          "metadata": {},
          "execution_count": 188
        }
      ]
    },
    {
      "cell_type": "code",
      "metadata": {
        "id": "kJE-85T6iAaK"
      },
      "source": [
        ""
      ],
      "execution_count": null,
      "outputs": []
    },
    {
      "cell_type": "code",
      "metadata": {
        "colab": {
          "base_uri": "https://localhost:8080/"
        },
        "id": "D4oJsJRX8ww6",
        "outputId": "42f8b1f4-6a0c-4458-c3bd-3a93f80d8742"
      },
      "source": [
        "b = []\n",
        "\n",
        "for row_a in a:\n",
        "    row_b = []\n",
        "    for i in range(0, len(row_a) - 1, 2):\n",
        "        row_b.append(row_a[i] + row_a[i+1])\n",
        "    \n",
        "    b.append(row_b)\n",
        "\n",
        "b"
      ],
      "execution_count": null,
      "outputs": [
        {
          "output_type": "execute_result",
          "data": {
            "text/plain": [
              "[[74, 43, 53, 63, 46],\n",
              " [60, 55, 64, 58, 56],\n",
              " [46, 41, 63, 59, 57],\n",
              " [66, 50, 46, 59, 41],\n",
              " [51, 62, 65, 60, 51],\n",
              " [57, 59, 74, 56, 51],\n",
              " [47, 62, 56, 56, 67],\n",
              " [46, 52, 53, 51, 54],\n",
              " [46, 57, 63, 57, 48],\n",
              " [57, 60, 60, 51, 52],\n",
              " [56, 39, 65, 69, 58],\n",
              " [68, 60, 55, 53, 58],\n",
              " [62, 57, 52, 44, 55],\n",
              " [53, 39, 40, 57, 54],\n",
              " [50, 58, 53, 56, 59],\n",
              " [57, 59, 49, 60, 57],\n",
              " [51, 49, 56, 47, 54],\n",
              " [65, 45, 59, 53, 39],\n",
              " [53, 71, 53, 48, 60],\n",
              " [61, 62, 55, 44, 60]]"
            ]
          },
          "metadata": {},
          "execution_count": 189
        }
      ]
    },
    {
      "cell_type": "code",
      "metadata": {
        "colab": {
          "base_uri": "https://localhost:8080/"
        },
        "id": "-PaGH2jVh6B-",
        "outputId": "c7c27498-c3aa-4fc9-dc25-0bbedcb0330a"
      },
      "source": [
        "anp = np.array(a).flatten()\n",
        "bnp = np.array(b).flatten()\n",
        "np.sum(bnp), np.sum(anp)"
      ],
      "execution_count": null,
      "outputs": [
        {
          "output_type": "execute_result",
          "data": {
            "text/plain": [
              "(5518, 5518)"
            ]
          },
          "metadata": {},
          "execution_count": 190
        }
      ]
    },
    {
      "cell_type": "code",
      "metadata": {
        "colab": {
          "base_uri": "https://localhost:8080/"
        },
        "id": "bwrqAoJv9Lod",
        "outputId": "cc11e102-ccea-4c17-879f-eb19c4c9afbf"
      },
      "source": [
        "b_new = []\n",
        "for row_i in range(0, len(b)-1, 2):\n",
        "    r1 = b[row_i]\n",
        "    r2 = b[row_i+1]\n",
        "    rnew_first = \" & \".join(str(el) for el in r1)\n",
        "    rnew_second = \" & \".join(str(el) for el in r2)\n",
        "    b_new.append(rnew_first +\" & \"+ rnew_second)\n",
        "\n",
        "b_new"
      ],
      "execution_count": null,
      "outputs": [
        {
          "output_type": "execute_result",
          "data": {
            "text/plain": [
              "['74 & 43 & 53 & 63 & 46 & 60 & 55 & 64 & 58 & 56',\n",
              " '46 & 41 & 63 & 59 & 57 & 66 & 50 & 46 & 59 & 41',\n",
              " '51 & 62 & 65 & 60 & 51 & 57 & 59 & 74 & 56 & 51',\n",
              " '47 & 62 & 56 & 56 & 67 & 46 & 52 & 53 & 51 & 54',\n",
              " '46 & 57 & 63 & 57 & 48 & 57 & 60 & 60 & 51 & 52',\n",
              " '56 & 39 & 65 & 69 & 58 & 68 & 60 & 55 & 53 & 58',\n",
              " '62 & 57 & 52 & 44 & 55 & 53 & 39 & 40 & 57 & 54',\n",
              " '50 & 58 & 53 & 56 & 59 & 57 & 59 & 49 & 60 & 57',\n",
              " '51 & 49 & 56 & 47 & 54 & 65 & 45 & 59 & 53 & 39',\n",
              " '53 & 71 & 53 & 48 & 60 & 61 & 62 & 55 & 44 & 60']"
            ]
          },
          "metadata": {},
          "execution_count": 191
        }
      ]
    },
    {
      "cell_type": "code",
      "metadata": {
        "colab": {
          "base_uri": "https://localhost:8080/"
        },
        "id": "Dpwg3Rh59srh",
        "outputId": "cd86668e-7ce3-46b9-ccd1-c2d8f292acbd"
      },
      "source": [
        "for i, row in enumerate(b_new):\n",
        "    print(\"\\\\textbf{\"+str(i*10)+\"} & \" + f\"{row} \\\\\\ \\\\hline\")"
      ],
      "execution_count": null,
      "outputs": [
        {
          "output_type": "stream",
          "name": "stdout",
          "text": [
            "\\textbf{0} & 74 & 43 & 53 & 63 & 46 & 60 & 55 & 64 & 58 & 56 \\\\ \\hline\n",
            "\\textbf{10} & 46 & 41 & 63 & 59 & 57 & 66 & 50 & 46 & 59 & 41 \\\\ \\hline\n",
            "\\textbf{20} & 51 & 62 & 65 & 60 & 51 & 57 & 59 & 74 & 56 & 51 \\\\ \\hline\n",
            "\\textbf{30} & 47 & 62 & 56 & 56 & 67 & 46 & 52 & 53 & 51 & 54 \\\\ \\hline\n",
            "\\textbf{40} & 46 & 57 & 63 & 57 & 48 & 57 & 60 & 60 & 51 & 52 \\\\ \\hline\n",
            "\\textbf{50} & 56 & 39 & 65 & 69 & 58 & 68 & 60 & 55 & 53 & 58 \\\\ \\hline\n",
            "\\textbf{60} & 62 & 57 & 52 & 44 & 55 & 53 & 39 & 40 & 57 & 54 \\\\ \\hline\n",
            "\\textbf{70} & 50 & 58 & 53 & 56 & 59 & 57 & 59 & 49 & 60 & 57 \\\\ \\hline\n",
            "\\textbf{80} & 51 & 49 & 56 & 47 & 54 & 65 & 45 & 59 & 53 & 39 \\\\ \\hline\n",
            "\\textbf{90} & 53 & 71 & 53 & 48 & 60 & 61 & 62 & 55 & 44 & 60 \\\\ \\hline\n"
          ]
        }
      ]
    },
    {
      "cell_type": "code",
      "metadata": {
        "colab": {
          "base_uri": "https://localhost:8080/"
        },
        "id": "S44HidEh-X6f",
        "outputId": "463f6fa4-62f5-4611-c945-4a91c2bdc01e"
      },
      "source": [
        "import numpy as np\n",
        "b = np.array(b)\n",
        "b = b.flatten()\n",
        "b"
      ],
      "execution_count": null,
      "outputs": [
        {
          "output_type": "execute_result",
          "data": {
            "text/plain": [
              "array([74, 43, 53, 63, 46, 60, 55, 64, 58, 56, 46, 41, 63, 59, 57, 66, 50,\n",
              "       46, 59, 41, 51, 62, 65, 60, 51, 57, 59, 74, 56, 51, 47, 62, 56, 56,\n",
              "       67, 46, 52, 53, 51, 54, 46, 57, 63, 57, 48, 57, 60, 60, 51, 52, 56,\n",
              "       39, 65, 69, 58, 68, 60, 55, 53, 58, 62, 57, 52, 44, 55, 53, 39, 40,\n",
              "       57, 54, 50, 58, 53, 56, 59, 57, 59, 49, 60, 57, 51, 49, 56, 47, 54,\n",
              "       65, 45, 59, 53, 39, 53, 71, 53, 48, 60, 61, 62, 55, 44, 60])"
            ]
          },
          "metadata": {},
          "execution_count": 198
        }
      ]
    },
    {
      "cell_type": "code",
      "metadata": {
        "colab": {
          "base_uri": "https://localhost:8080/"
        },
        "id": "4yu-oc0eEqRl",
        "outputId": "e8d361b0-0457-4dba-bc75-8ac4b198cb9f"
      },
      "source": [
        "from collections import Counter\n",
        "\n",
        "c = Counter (b)\n",
        "num_measures = sum(list(c.values()))\n",
        "measures = sorted(list(c.items()), key=lambda pair: pair[0])\n",
        "for i, pair in enumerate(measures):\n",
        "    print(f\"{pair[0]} & {pair[1]} & {pair[1] / num_measures} \\\\\\ \\hline\")"
      ],
      "execution_count": null,
      "outputs": [
        {
          "output_type": "stream",
          "name": "stdout",
          "text": [
            "39 & 3 & 0.03 \\\\ \\hline\n",
            "40 & 1 & 0.01 \\\\ \\hline\n",
            "41 & 2 & 0.02 \\\\ \\hline\n",
            "43 & 1 & 0.01 \\\\ \\hline\n",
            "44 & 2 & 0.02 \\\\ \\hline\n",
            "45 & 1 & 0.01 \\\\ \\hline\n",
            "46 & 5 & 0.05 \\\\ \\hline\n",
            "47 & 2 & 0.02 \\\\ \\hline\n",
            "48 & 2 & 0.02 \\\\ \\hline\n",
            "49 & 2 & 0.02 \\\\ \\hline\n",
            "50 & 2 & 0.02 \\\\ \\hline\n",
            "51 & 6 & 0.06 \\\\ \\hline\n",
            "52 & 3 & 0.03 \\\\ \\hline\n",
            "53 & 8 & 0.08 \\\\ \\hline\n",
            "54 & 3 & 0.03 \\\\ \\hline\n",
            "55 & 4 & 0.04 \\\\ \\hline\n",
            "56 & 7 & 0.07 \\\\ \\hline\n",
            "57 & 9 & 0.09 \\\\ \\hline\n",
            "58 & 4 & 0.04 \\\\ \\hline\n",
            "59 & 6 & 0.06 \\\\ \\hline\n",
            "60 & 8 & 0.08 \\\\ \\hline\n",
            "61 & 1 & 0.01 \\\\ \\hline\n",
            "62 & 4 & 0.04 \\\\ \\hline\n",
            "63 & 3 & 0.03 \\\\ \\hline\n",
            "64 & 1 & 0.01 \\\\ \\hline\n",
            "65 & 3 & 0.03 \\\\ \\hline\n",
            "66 & 1 & 0.01 \\\\ \\hline\n",
            "67 & 1 & 0.01 \\\\ \\hline\n",
            "68 & 1 & 0.01 \\\\ \\hline\n",
            "69 & 1 & 0.01 \\\\ \\hline\n",
            "71 & 1 & 0.01 \\\\ \\hline\n",
            "74 & 2 & 0.02 \\\\ \\hline\n"
          ]
        }
      ]
    },
    {
      "cell_type": "markdown",
      "metadata": {
        "id": "VywDO56uJKto"
      },
      "source": [
        "# Строим гистограммы"
      ]
    },
    {
      "cell_type": "code",
      "metadata": {
        "colab": {
          "base_uri": "https://localhost:8080/"
        },
        "id": "YsabmJhnJKgH",
        "outputId": "0acc0140-42c3-4956-ada8-ce44bc45736f"
      },
      "source": [
        "measures_10_data = \\\n",
        "\"\"\"3 & 1\n",
        "4 & 1\n",
        "5 & 2\n",
        "6 & 2\n",
        "7 & 7\n",
        "8 & 14\n",
        "9 & 19\n",
        "10 & 32\n",
        "11 & 38\n",
        "12 & 34\n",
        "13 & 39\n",
        "14 & 39\n",
        "15 & 46\n",
        "16 & 39\n",
        "17 & 24\n",
        "18 & 21\n",
        "19 & 17\n",
        "20 & 11\n",
        "21 & 5\n",
        "22 & 4\n",
        "23 & 3\n",
        "25 & 1\n",
        "28 & 1\"\"\"\n",
        "\n",
        "measures_40_data = \\\n",
        "\"\"\"39 & 3\n",
        "40 & 1\n",
        "41 & 2\n",
        "43 & 1\n",
        "44 & 2\n",
        "45 & 1\n",
        "46 & 5\n",
        "47 & 2\n",
        "48 & 2\n",
        "49 & 2\n",
        "50 & 2\n",
        "51 & 6\n",
        "52 & 3\n",
        "53 & 8\n",
        "54 & 3\n",
        "55 & 4\n",
        "56 & 7\n",
        "57 & 9\n",
        "58 & 4\n",
        "59 & 6\n",
        "60 & 8\n",
        "61 & 1\n",
        "62 & 4\n",
        "63 & 3\n",
        "64 & 1\n",
        "65 & 3\n",
        "66 & 1\n",
        "67 & 1\n",
        "68 & 1\n",
        "69 & 1\n",
        "71 & 1\n",
        "74 & 2\"\"\"\n",
        "\n",
        "def preproc_data_for_hist(data):\n",
        "    data = data.split(\"\\n\")\n",
        "    data = list(map(lambda row: row.split(\" & \"), data))\n",
        "\n",
        "    data_tmp = []\n",
        "    for row in data:\n",
        "        data_tmp.extend([int(row[0])] * int(row[1]))\n",
        "\n",
        "    data = np.array(data_tmp)\n",
        "    return data\n",
        "\n",
        "measures_10_data = preproc_data_for_hist (measures_10_data)\n",
        "measures_40_data = preproc_data_for_hist (measures_40_data)\n",
        "\n",
        "len(measures_10_data), len(measures_40_data)"
      ],
      "execution_count": null,
      "outputs": [
        {
          "output_type": "execute_result",
          "data": {
            "text/plain": [
              "(400, 100)"
            ]
          },
          "metadata": {},
          "execution_count": 201
        }
      ]
    },
    {
      "cell_type": "code",
      "metadata": {
        "colab": {
          "base_uri": "https://localhost:8080/"
        },
        "id": "yWul5rc3W0wl",
        "outputId": "c39efa42-5c38-4d4c-8d24-0a9e658c1496"
      },
      "source": [
        "np.sum(measures_40_data), np.sum(measures_10_data)"
      ],
      "execution_count": null,
      "outputs": [
        {
          "output_type": "execute_result",
          "data": {
            "text/plain": [
              "(5518, 5518)"
            ]
          },
          "metadata": {},
          "execution_count": 203
        }
      ]
    },
    {
      "cell_type": "code",
      "metadata": {
        "colab": {
          "base_uri": "https://localhost:8080/"
        },
        "id": "P2yqLDIOolKI",
        "outputId": "b020ae89-ef04-4035-d48e-76569c204cba"
      },
      "source": [
        "std_measures_10 = np.std(measures_10_data)\n",
        "mean_measures_10 = measures_10_data.mean()\n",
        "std_measures_10, np.sqrt(measures_10_data.mean()), measures_10_data.mean()"
      ],
      "execution_count": null,
      "outputs": [
        {
          "output_type": "execute_result",
          "data": {
            "text/plain": [
              "(3.701752963124363, 3.714162085854628, 13.795)"
            ]
          },
          "metadata": {},
          "execution_count": 215
        }
      ]
    },
    {
      "cell_type": "code",
      "metadata": {
        "colab": {
          "base_uri": "https://localhost:8080/"
        },
        "id": "OJT1ExgjmswZ",
        "outputId": "7b8e9f83-c68f-458b-9cb4-c2ced9056aaa"
      },
      "source": [
        "std_measures_40 = np.std(measures_40_data)\n",
        "mean_measures_40 =  measures_40_data.mean()\n",
        "std_measures_40, np.sqrt(mean_measures_40), mean_measures_40"
      ],
      "execution_count": null,
      "outputs": [
        {
          "output_type": "execute_result",
          "data": {
            "text/plain": [
              "(7.461072308991516, 7.428324171709256, 55.18)"
            ]
          },
          "metadata": {},
          "execution_count": 216
        }
      ]
    },
    {
      "cell_type": "code",
      "metadata": {
        "colab": {
          "base_uri": "https://localhost:8080/"
        },
        "id": "GcWmQNirrqyj",
        "outputId": "d821c330-0026-4843-cb04-720fee7a1ffb"
      },
      "source": [
        "in_std10 = (np.abs(measures_10_data - mean_measures_10) < std_measures_10).sum()\n",
        "in_2std10 = (np.abs(measures_10_data - mean_measures_10) < 2*std_measures_10).sum()\n",
        "\n",
        "in_std_persents10 = in_std / len(measures_10_data)\n",
        "in_2std_persents10 = in_2std / len(measures_10_data)\n",
        "\n",
        "print(in_std10, in_2std10, in_std_persents10, in_2std_persents10)"
      ],
      "execution_count": null,
      "outputs": [
        {
          "output_type": "stream",
          "name": "stdout",
          "text": [
            "259 385 0.6475 0.9625\n"
          ]
        }
      ]
    },
    {
      "cell_type": "code",
      "metadata": {
        "colab": {
          "base_uri": "https://localhost:8080/"
        },
        "id": "-Ye3oza-tfm6",
        "outputId": "b5508acf-487c-49af-c23c-19562e63e890"
      },
      "source": [
        "in_std40 = (np.abs(measures_40_data - mean_measures_40) < std_measures_40).sum()\n",
        "in_2std40 = (np.abs(measures_40_data - mean_measures_40) < 2*std_measures_40).sum()\n",
        "\n",
        "in_std_persents40 = in_std40 / len(measures_40_data)\n",
        "in_2std_persents40 = in_2std40 / len(measures_40_data)\n",
        "\n",
        "print(in_std40, in_2std40, in_std_persents40, in_2std_persents40)"
      ],
      "execution_count": null,
      "outputs": [
        {
          "output_type": "stream",
          "name": "stdout",
          "text": [
            "69 93 0.69 0.93\n"
          ]
        }
      ]
    },
    {
      "cell_type": "code",
      "metadata": {
        "colab": {
          "base_uri": "https://localhost:8080/",
          "height": 983
        },
        "id": "LNxxuo7gFrzM",
        "outputId": "c564b18f-84dd-4fcb-f715-44f5d6eb42ca"
      },
      "source": [
        "import matplotlib.pyplot as plt\n",
        "fig, ax1 = plt.subplots(figsize=(16, 12), dpi=100)\n",
        "ax2 = ax1.twiny()\n",
        "\n",
        "ax1.hist(measures_10_data, density=1, histtype='step', edgecolor='black', linewidth=2, bins=len(np.unique(measures_10_data)))\n",
        "ax2.hist(measures_40_data, density=1, color=\"black\", alpha=0.7,  histtype='stepfilled', edgecolor='black', linewidth=2, bins=len(np.unique(measures_40_data)))\n",
        "\n",
        "ax1.set_xlabel(\"Число срабатываний счетчика при t=10 c.\")\n",
        "ax2.set_xlabel(\"Число срабатываний счетчика при t=40 c.\")\n",
        "\n",
        "ax1.set_ylabel(\"Частота встречаемости значения\")\n",
        "\n",
        "ax1.set_xticks(np.arange(0, 30, 1))\n",
        "ax2.set_xticks(np.arange(0, 120, 4))\n",
        "\n",
        "ax1.set_yticks(np.arange(0, 0.22, 0.005))\n",
        "\n",
        "plt.savefig(\"hists_plot.png\")\n",
        "plt.show()"
      ],
      "execution_count": null,
      "outputs": [
        {
          "output_type": "display_data",
          "data": {
            "image/png": "[encoded data removed]",
            "text/plain": [
              "<Figure size 1600x1200 with 2 Axes>"
            ]
          },
          "metadata": {
            "needs_background": "light"
          }
        }
      ]
    },
    {
      "cell_type": "code",
      "metadata": {
        "id": "yKY9Yx3FKp1y"
      },
      "source": [
        ""
      ],
      "execution_count": null,
      "outputs": []
    }
  ]
}