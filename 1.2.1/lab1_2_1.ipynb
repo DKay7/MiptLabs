{
  "nbformat": 4,
  "nbformat_minor": 0,
  "metadata": {
    "colab": {
      "name": "lab1_2_1.ipynb",
      "provenance": []
    },
    "kernelspec": {
      "name": "python3",
      "display_name": "Python 3"
    },
    "language_info": {
      "name": "python"
    }
  },
  "cells": [
    {
      "cell_type": "markdown",
      "source": [
        "## Первая часть работы"
      ],
      "metadata": {
        "id": "j5TSfVnYEyFw"
      }
    },
    {
      "cell_type": "code",
      "execution_count": 4,
      "metadata": {
        "id": "VV6TuWan5AiL"
      },
      "outputs": [],
      "source": [
        "import numpy as np"
      ]
    },
    {
      "cell_type": "code",
      "source": [
        "M1 = 2925 / 1000\n",
        "L1 = 220 / 100\n",
        "g = 9.81"
      ],
      "metadata": {
        "id": "dHzeilA35iuO"
      },
      "execution_count": 5,
      "outputs": []
    },
    {
      "cell_type": "code",
      "source": [
        "def find_u_for_first_state (m, dx):\n",
        "    u = (M1 / m) * np.sqrt (g / L1) * dx\n",
        "    return u"
      ],
      "metadata": {
        "id": "M0hEZ8Hh5Pvg"
      },
      "execution_count": 6,
      "outputs": []
    },
    {
      "cell_type": "code",
      "source": [
        "masses1 = np.array([0.509, 0.512, 0.511, 0.5, 0.51, 0.50, 0.50, 0.501]) / 1000\n",
        "dxes1   = np.array([11.25, 11.5, 11.5, 11, 11.25, 11, 12, 11]) / 1000"
      ],
      "metadata": {
        "id": "-c3Cf7qG52cq"
      },
      "execution_count": 14,
      "outputs": []
    },
    {
      "cell_type": "code",
      "source": [
        "assert len(masses1) == len(dxes1)"
      ],
      "metadata": {
        "id": "d-x-Ib5v6TpB"
      },
      "execution_count": 15,
      "outputs": []
    },
    {
      "cell_type": "code",
      "source": [
        "u_1 = np.array([])\n",
        "\n",
        "for i in range (len(masses1)):\n",
        "    u_1 = np.append(u_1, find_u_for_first_state(masses1[i], dxes1[i]))\n",
        "    print (f\"{i + 1} &\\t{dxes1[i] * 1000}\\t&\\t{u_1[i]:.3f} \\\\\\ \\\\hline\")"
      ],
      "metadata": {
        "colab": {
          "base_uri": "https://localhost:8080/"
        },
        "id": "TNxY-KuR6bJg",
        "outputId": "8dcffe65-91e9-4f1e-bbd8-1896f9ca7c6b"
      },
      "execution_count": 19,
      "outputs": [
        {
          "output_type": "stream",
          "name": "stdout",
          "text": [
            "1 &\t11.25\t&\t136.516 \\\\ \\hline\n",
            "2 &\t11.5\t&\t138.732 \\\\ \\hline\n",
            "3 &\t11.5\t&\t139.004 \\\\ \\hline\n",
            "4 &\t11.0\t&\t135.885 \\\\ \\hline\n",
            "5 &\t11.25\t&\t136.248 \\\\ \\hline\n",
            "6 &\t11.0\t&\t135.885 \\\\ \\hline\n",
            "7 &\t12.0\t&\t148.238 \\\\ \\hline\n",
            "8 &\t11.0\t&\t135.614 \\\\ \\hline\n"
          ]
        }
      ]
    },
    {
      "cell_type": "code",
      "source": [
        "inacc_1 = np.std(u_1)\n",
        "inacc_1"
      ],
      "metadata": {
        "colab": {
          "base_uri": "https://localhost:8080/"
        },
        "id": "75ukJId37fgA",
        "outputId": "a7109c6f-9074-43e0-bd97-f2c2f47bc671"
      },
      "execution_count": 21,
      "outputs": [
        {
          "output_type": "execute_result",
          "data": {
            "text/plain": [
              "3.9640844791731986"
            ]
          },
          "metadata": {},
          "execution_count": 21
        }
      ]
    },
    {
      "cell_type": "code",
      "source": [
        "inacc_syst = np.sqrt(((0.125 / 1000) / dxes1.mean()) ** 2 + (5 * 10**-4 / masses1.mean()) ** 2 + ((0.05 / 100) / L1)**2)\n",
        "inacc_syst"
      ],
      "metadata": {
        "colab": {
          "base_uri": "https://localhost:8080/"
        },
        "id": "-i6NtYYn9pxj",
        "outputId": "15b7ed98-3eb5-49fe-ebcf-4fc3fee587b4"
      },
      "execution_count": 27,
      "outputs": [
        {
          "output_type": "execute_result",
          "data": {
            "text/plain": [
              "0.9894260620598428"
            ]
          },
          "metadata": {},
          "execution_count": 27
        }
      ]
    },
    {
      "cell_type": "code",
      "source": [
        "np.sqrt(inacc_syst**2 + inacc_1**2)"
      ],
      "metadata": {
        "colab": {
          "base_uri": "https://localhost:8080/"
        },
        "id": "jXPqrO1P-Zmu",
        "outputId": "798ef25d-5399-4468-e3e4-5c8f86a10e09"
      },
      "execution_count": 28,
      "outputs": [
        {
          "output_type": "execute_result",
          "data": {
            "text/plain": [
              "4.085698188841792"
            ]
          },
          "metadata": {},
          "execution_count": 28
        }
      ]
    },
    {
      "cell_type": "code",
      "source": [
        "u_1.mean()"
      ],
      "metadata": {
        "colab": {
          "base_uri": "https://localhost:8080/"
        },
        "id": "G8VDH76b-lBf",
        "outputId": "4b73be33-bd26-450a-cdca-73261b3f30ee"
      },
      "execution_count": 29,
      "outputs": [
        {
          "output_type": "execute_result",
          "data": {
            "text/plain": [
              "138.265290645031"
            ]
          },
          "metadata": {},
          "execution_count": 29
        }
      ]
    },
    {
      "cell_type": "markdown",
      "source": [
        "## Вторая часть работы"
      ],
      "metadata": {
        "id": "Nk_B3v_IEt76"
      }
    },
    {
      "cell_type": "code",
      "source": [
        "kI_sqrt = 97 * 10**-3\n",
        "d = 57 / 100\n",
        "r = 21 / 100"
      ],
      "metadata": {
        "id": "wc6qRNG7Fk2R"
      },
      "execution_count": 70,
      "outputs": []
    },
    {
      "cell_type": "code",
      "source": [
        "def find_u_for_second_state (m, phi):\n",
        "    u = phi * kI_sqrt / (m * r)\n",
        "    return u"
      ],
      "metadata": {
        "id": "E_DcQ-FiFV4E"
      },
      "execution_count": 71,
      "outputs": []
    },
    {
      "cell_type": "code",
      "source": [
        "masses2 = np.array([0.502, 0.51, 0.51, 0.511, 0.504, 0.513, 0.503, 0.508]) / 1000\n",
        "dxes2   = np.array([17.5, 18, 18, 18, 17.5, 18, 17.4,  17.5]) / 100\n",
        "phis2   = dxes2 / (2 * d)"
      ],
      "metadata": {
        "id": "IWfLhmw4_XX0"
      },
      "execution_count": 72,
      "outputs": []
    },
    {
      "cell_type": "code",
      "source": [
        "assert len(masses2) == len(dxes2)"
      ],
      "metadata": {
        "id": "ssoPrZWcGXfB"
      },
      "execution_count": 73,
      "outputs": []
    },
    {
      "cell_type": "code",
      "source": [
        "u_2 = np.array([])\n",
        "\n",
        "for i in range (len(masses2)):\n",
        "    u_2 = np.append(u_2, find_u_for_second_state(masses2[i], phis2[i]))\n",
        "    print (f\"{i + 1} &\\t{dxes2[i] * 100}\\t&\\t{phis2[i]:.2f}\\t&\\t{u_2[i]:.2f} \\\\\\ \\\\hline\")"
      ],
      "metadata": {
        "colab": {
          "base_uri": "https://localhost:8080/"
        },
        "id": "FZ-isA5pGTwB",
        "outputId": "2056a94c-c306-4e5a-f686-9be96e226a0c"
      },
      "execution_count": 75,
      "outputs": [
        {
          "output_type": "stream",
          "name": "stdout",
          "text": [
            "1 &\t17.5\t&\t0.15\t&\t141.25 \\\\ \\hline\n",
            "2 &\t18.0\t&\t0.16\t&\t143.00 \\\\ \\hline\n",
            "3 &\t18.0\t&\t0.16\t&\t143.00 \\\\ \\hline\n",
            "4 &\t18.0\t&\t0.16\t&\t142.72 \\\\ \\hline\n",
            "5 &\t17.5\t&\t0.15\t&\t140.69 \\\\ \\hline\n",
            "6 &\t18.0\t&\t0.16\t&\t142.17 \\\\ \\hline\n",
            "7 &\t17.4\t&\t0.15\t&\t140.16 \\\\ \\hline\n",
            "8 &\t17.5\t&\t0.15\t&\t139.58 \\\\ \\hline\n"
          ]
        }
      ]
    },
    {
      "cell_type": "code",
      "source": [
        "inacc_2 = np.std(u_2)\n",
        "inacc_2"
      ],
      "metadata": {
        "colab": {
          "base_uri": "https://localhost:8080/"
        },
        "id": "8FmY4S-kGgoR",
        "outputId": "57cf5c6f-5fae-4026-a2ba-f9aaa5e0df9f"
      },
      "execution_count": 77,
      "outputs": [
        {
          "output_type": "execute_result",
          "data": {
            "text/plain": [
              "1.2567596842939994"
            ]
          },
          "metadata": {},
          "execution_count": 77
        }
      ]
    },
    {
      "cell_type": "code",
      "source": [
        "inacc_syst = np.sqrt(((0.05 / 100) / dxes2.mean()) ** 2 + (5 * 10**-4 / masses2.mean()) ** 2 + ((0.05 / 100) / r)**2 + + ((0.05 / 100) / d)**2)\n",
        "inacc_syst"
      ],
      "metadata": {
        "colab": {
          "base_uri": "https://localhost:8080/"
        },
        "id": "0XZG7lXCJviE",
        "outputId": "a205132d-bd3d-4ba6-e18a-836596823328"
      },
      "execution_count": 78,
      "outputs": [
        {
          "output_type": "execute_result",
          "data": {
            "text/plain": [
              "0.9849863711112492"
            ]
          },
          "metadata": {},
          "execution_count": 78
        }
      ]
    },
    {
      "cell_type": "code",
      "source": [
        "np.sqrt(inacc_syst**2 + inacc_2**2)\n"
      ],
      "metadata": {
        "colab": {
          "base_uri": "https://localhost:8080/"
        },
        "id": "bRPNoDgtJ-o2",
        "outputId": "2080a1e6-d99d-401d-f99e-d9da3d56bed3"
      },
      "execution_count": 79,
      "outputs": [
        {
          "output_type": "execute_result",
          "data": {
            "text/plain": [
              "1.5967601746479214"
            ]
          },
          "metadata": {},
          "execution_count": 79
        }
      ]
    },
    {
      "cell_type": "code",
      "source": [
        "np.mean(u_2)"
      ],
      "metadata": {
        "colab": {
          "base_uri": "https://localhost:8080/"
        },
        "id": "oZRxwJmkKCVJ",
        "outputId": "b8a77ebb-6d94-4f51-c8eb-94f9d12ea98b"
      },
      "execution_count": 81,
      "outputs": [
        {
          "output_type": "execute_result",
          "data": {
            "text/plain": [
              "141.5723142757272"
            ]
          },
          "metadata": {},
          "execution_count": 81
        }
      ]
    },
    {
      "cell_type": "code",
      "source": [
        ""
      ],
      "metadata": {
        "id": "mwCraW2PKQzb"
      },
      "execution_count": null,
      "outputs": []
    }
  ]
}