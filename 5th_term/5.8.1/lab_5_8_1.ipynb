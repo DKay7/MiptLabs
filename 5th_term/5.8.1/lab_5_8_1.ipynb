{
  "nbformat": 4,
  "nbformat_minor": 0,
  "metadata": {
    "colab": {
      "provenance": []
    },
    "kernelspec": {
      "name": "python3",
      "display_name": "Python 3"
    },
    "language_info": {
      "name": "python"
    }
  },
  "cells": [
    {
      "cell_type": "code",
      "execution_count": 177,
      "metadata": {
        "id": "h_6c33rQYOpN"
      },
      "outputs": [],
      "source": [
        "import numpy as np\n",
        "import matplotlib.pyplot as plt\n",
        "from sklearn.linear_model import LinearRegression\n"
      ]
    },
    {
      "cell_type": "markdown",
      "source": [
        "# 1. Изучение работы оптического пирометра"
      ],
      "metadata": {
        "id": "PcUdUDaSYWYp"
      }
    },
    {
      "cell_type": "code",
      "source": [
        "class PyrometerData:\n",
        "    def __init__(self, real_temp, pyro_temp, millivolts, isup):\n",
        "        self.real_temp = real_temp\n",
        "        self.pyro_temp = pyro_temp\n",
        "        self.millivolts = millivolts\n",
        "        self.isup = isup\n",
        "\n",
        "    def __str__(self):\n",
        "        return f\"{self.real_temp:.0f}\\t& {self.pyro_temp:4.0f}\\t& {self.millivolts}\\t& {100 * np.abs(1 - self.real_temp / self.pyro_temp):.1f}\\t & {'вверх' if self.isup else 'вниз':5s}\\t \\\\\\ \\\\hline\""
      ],
      "metadata": {
        "id": "yIaUgkdIYUw5"
      },
      "execution_count": 178,
      "outputs": []
    },
    {
      "cell_type": "code",
      "source": [
        "data = np.array([\n",
        "    PyrometerData(962,      963,    36.82, True ),\n",
        "    PyrometerData(968,      973,    39.03, False),\n",
        "    PyrometerData(969,      989,    39.09, True ),\n",
        "    PyrometerData(973,      997,    39.14, False),\n",
        "    PyrometerData(974,      1008,   39.16, True ),\n",
        "    PyrometerData(977,      1010,   39.27, False),\n",
        "    PyrometerData(978,      993,    39.31, True ),\n",
        "    PyrometerData(979,      1007,   39.38, False ),\n",
        "    PyrometerData(970,      1004,   39.04, True ),\n",
        "    PyrometerData(965,      1001,   38.76, False ),\n",
        "])"
      ],
      "metadata": {
        "id": "07xTdDxUZOFi"
      },
      "execution_count": 179,
      "outputs": []
    },
    {
      "cell_type": "code",
      "source": [
        "for data_line in data:\n",
        "    print(data_line)"
      ],
      "metadata": {
        "colab": {
          "base_uri": "https://localhost:8080/"
        },
        "id": "28Cl2zfabqOc",
        "outputId": "b0e5b767-b1d9-4f19-e891-c056972a28c9"
      },
      "execution_count": 180,
      "outputs": [
        {
          "output_type": "stream",
          "name": "stdout",
          "text": [
            "962\t&  963\t& 36.82\t& 0.1\t & вверх\t \\\\ \\hline\n",
            "968\t&  973\t& 39.03\t& 0.5\t & вниз \t \\\\ \\hline\n",
            "969\t&  989\t& 39.09\t& 2.0\t & вверх\t \\\\ \\hline\n",
            "973\t&  997\t& 39.14\t& 2.4\t & вниз \t \\\\ \\hline\n",
            "974\t& 1008\t& 39.16\t& 3.4\t & вверх\t \\\\ \\hline\n",
            "977\t& 1010\t& 39.27\t& 3.3\t & вниз \t \\\\ \\hline\n",
            "978\t&  993\t& 39.31\t& 1.5\t & вверх\t \\\\ \\hline\n",
            "979\t& 1007\t& 39.38\t& 2.8\t & вниз \t \\\\ \\hline\n",
            "970\t& 1004\t& 39.04\t& 3.4\t & вверх\t \\\\ \\hline\n",
            "965\t& 1001\t& 38.76\t& 3.6\t & вниз \t \\\\ \\hline\n"
          ]
        }
      ]
    },
    {
      "cell_type": "code",
      "source": [],
      "metadata": {
        "id": "ILNmrOzZcTnR"
      },
      "execution_count": 180,
      "outputs": []
    },
    {
      "cell_type": "markdown",
      "source": [
        "# 3. Проверка закона Стефана-больцмана\n"
      ],
      "metadata": {
        "id": "8KPN38_Isrkf"
      }
    },
    {
      "cell_type": "code",
      "source": [
        "class LampData:\n",
        "    def __init__(self, visual_temp, current, voltage):\n",
        "        self.visual_temp = visual_temp # В цельсиях\n",
        "        self.voltage = voltage\n",
        "        self.current = current\n",
        "\n",
        "        self.real_temp = self._compute_real_temp()\n",
        "        self.power = self._compute_power()\n",
        "        self.epsilon = self._get_nearest_epsilon()\n",
        "\n",
        "\n",
        "    def _compute_real_temp(self):\n",
        "        K_BRIGHNTESS_TERM = 1.06 # Коэффициенты прямой с графика\n",
        "        B_BRIGHNTESS_TERM = -30\n",
        "\n",
        "        self.real_temp = K_BRIGHNTESS_TERM * (self.visual_temp + 273) + B_BRIGHNTESS_TERM # Сразу считаем в кельвинах\n",
        "\n",
        "        return self.real_temp\n",
        "\n",
        "    def _compute_power(self):\n",
        "        self.power = self.voltage * self.current\n",
        "        return self.power\n",
        "\n",
        "    def _get_nearest_epsilon(self):\n",
        "        epsilons = {\n",
        "            800: 0.067,\n",
        "            900: 0.081,\n",
        "            1000: 0.105,\n",
        "            1100: 0.119,\n",
        "            1200: 0.133,\n",
        "            1300: 0.144,\n",
        "            1400: 0.164,\n",
        "            1500: 0.179,\n",
        "            1600: 0.195,\n",
        "            1700: 0.209,\n",
        "            1800: 0.223,\n",
        "            1900: 0.236,\n",
        "            2000: 0.249\n",
        "        }\n",
        "\n",
        "        epsilons_val = list(epsilons.values())\n",
        "        epsilons_keys = list(epsilons.keys())\n",
        "\n",
        "        # до 1400 пытаемся найти ближайший eps.,\n",
        "        # после 1400 зависимость линейная -- можно аппроксимировать\n",
        "        index_of_linear_start = 6 # после 6-го значения (1400) начинается линейная часть\n",
        "        best_temp_idx = (np.abs(np.array(epsilons_keys) - self.real_temp)).argmin()\n",
        "\n",
        "        if (best_temp_idx < index_of_linear_start):\n",
        "            self.epsilon = epsilons_val[best_temp_idx]\n",
        "\n",
        "        else:\n",
        "            self.epsilon = (epsilons_val[-1] - epsilons_val[index_of_linear_start]) / \\\n",
        "                            (epsilons_keys[-1] - epsilons_keys[index_of_linear_start]) * \\\n",
        "                            (self.real_temp - epsilons_keys[6]) + epsilons_val[index_of_linear_start]\n",
        "\n",
        "        return self.epsilon\n",
        "\n",
        "    def print_result(self):\n",
        "        print(f\"{self.visual_temp:4d}\\t & {self.real_temp:4.0f}\\t & {self.power:1.2f} \\\\\\ \\\\hline\")\n",
        "\n",
        "    def __str__(self):\n",
        "        return f\"{self.visual_temp:4d}\\t & {self.voltage:1.2f}\\t & {self.current:1.3f} \\\\\\ \\\\hline\""
      ],
      "metadata": {
        "id": "pzLYc7s-txKW"
      },
      "execution_count": 181,
      "outputs": []
    },
    {
      "cell_type": "code",
      "source": [
        "data = np.array([\n",
        "    LampData(900,  0.449, 1.48),\n",
        "    LampData(1000, 0.495, 1.86),\n",
        "    LampData(1100, 0.550, 2.35),\n",
        "    LampData(1200, 0.611, 2.94),\n",
        "    LampData(1300, 0.628, 3.11),\n",
        "    LampData(1400, 0.692, 3.78),\n",
        "    LampData(1500, 0.800, 5.01),\n",
        "    LampData(1600, 0.869, 5.87),\n",
        "    LampData(1700, 0.998, 7.61),\n",
        "    LampData(1800, 1.011, 7.82),\n",
        "    LampData(1900, 1.031, 8.12),\n",
        "])"
      ],
      "metadata": {
        "id": "ogv9_I3iubg9"
      },
      "execution_count": 182,
      "outputs": []
    },
    {
      "cell_type": "code",
      "source": [
        "for line in data:\n",
        "    print(line)"
      ],
      "metadata": {
        "colab": {
          "base_uri": "https://localhost:8080/"
        },
        "id": "9WF-g1kY1osF",
        "outputId": "6466eb23-199e-4242-864c-3ee13ed1265d"
      },
      "execution_count": 183,
      "outputs": [
        {
          "output_type": "stream",
          "name": "stdout",
          "text": [
            " 900\t & 1.48\t & 0.449 \\\\ \\hline\n",
            "1000\t & 1.86\t & 0.495 \\\\ \\hline\n",
            "1100\t & 2.35\t & 0.550 \\\\ \\hline\n",
            "1200\t & 2.94\t & 0.611 \\\\ \\hline\n",
            "1300\t & 3.11\t & 0.628 \\\\ \\hline\n",
            "1400\t & 3.78\t & 0.692 \\\\ \\hline\n",
            "1500\t & 5.01\t & 0.800 \\\\ \\hline\n",
            "1600\t & 5.87\t & 0.869 \\\\ \\hline\n",
            "1700\t & 7.61\t & 0.998 \\\\ \\hline\n",
            "1800\t & 7.82\t & 1.011 \\\\ \\hline\n",
            "1900\t & 8.12\t & 1.031 \\\\ \\hline\n"
          ]
        }
      ]
    },
    {
      "cell_type": "code",
      "source": [
        "for line in data:\n",
        "    line.print_result()"
      ],
      "metadata": {
        "colab": {
          "base_uri": "https://localhost:8080/"
        },
        "id": "hVMzT6zC2sX_",
        "outputId": "a4b2aa37-f6a2-48fa-a239-f7dce6913411"
      },
      "execution_count": 184,
      "outputs": [
        {
          "output_type": "stream",
          "name": "stdout",
          "text": [
            " 900\t & 1213\t & 0.66 \\\\ \\hline\n",
            "1000\t & 1319\t & 0.92 \\\\ \\hline\n",
            "1100\t & 1425\t & 1.29 \\\\ \\hline\n",
            "1200\t & 1531\t & 1.80 \\\\ \\hline\n",
            "1300\t & 1637\t & 1.95 \\\\ \\hline\n",
            "1400\t & 1743\t & 2.62 \\\\ \\hline\n",
            "1500\t & 1849\t & 4.01 \\\\ \\hline\n",
            "1600\t & 1955\t & 5.10 \\\\ \\hline\n",
            "1700\t & 2061\t & 7.59 \\\\ \\hline\n",
            "1800\t & 2167\t & 7.91 \\\\ \\hline\n",
            "1900\t & 2273\t & 8.37 \\\\ \\hline\n"
          ]
        }
      ]
    },
    {
      "cell_type": "markdown",
      "source": [
        "# Строим графики\n",
        "сначала аппроксимируем логарифмическую зависимость, а затем по ней сторим обычный и логарифмический графики\n"
      ],
      "metadata": {
        "id": "tcaYcS3B6btX"
      }
    },
    {
      "cell_type": "code",
      "source": [
        "def get_line (x, y, num_dots=100):\n",
        "    model = LinearRegression().fit(x.reshape(-1, 1), y)\n",
        "\n",
        "    k = model.coef_[0]\n",
        "    b = model.intercept_\n",
        "\n",
        "    X = np.linspace(x.min(), x.max(), num_dots)\n",
        "    Y = model.predict(X.reshape(-1, 1))\n",
        "\n",
        "    return (X, Y), k, b"
      ],
      "metadata": {
        "id": "jJFbYaxv7eNp"
      },
      "execution_count": 196,
      "outputs": []
    },
    {
      "cell_type": "code",
      "source": [
        "# для логарифмического графика берем только значения больше 1700K (так указано в лабнике)\n",
        "\n",
        "treshhold = 1700\n",
        "powers = np.array([line.power for line in data if line.real_temp >= treshhold])\n",
        "log_powers = np.log(powers)\n",
        "\n",
        "real_temps = np.array([line.real_temp for line in data if line.real_temp >= treshhold])\n",
        "log_real_temps = np.log(real_temps)\n",
        "\n",
        "S = 0.36 / 10**6 # площадь проволоки в м^2\n",
        "\n",
        "(temp_plot_data, w_plot_data), k, b = get_line(log_real_temps, log_powers)\n",
        "print (f\"\\ln (\\eps_T \\sigma S) &= {b:.2f} \\pm 0.01\")\n",
        "print (f\"n &= {k:.2f} \\pm 0.12\")\n",
        "\n",
        "plt.grid()\n",
        "plt.xlabel ('$lnT$',)\n",
        "plt.ylabel ('$lnW$')\n",
        "\n",
        "plt.scatter(log_real_temps, log_powers, marker='x')\n",
        "plt.plot(temp_plot_data, w_plot_data, label=f\"$lnW$ = ${k:.2f}*lnT$ {'+' if b > 0 else ''} ${b:.2f}$\")\n",
        "plt.legend()\n",
        "\n",
        "plt.savefig(\"log_plot.png\")\n",
        "plt.show()\n"
      ],
      "metadata": {
        "colab": {
          "base_uri": "https://localhost:8080/",
          "height": 485
        },
        "id": "Tpl7C7yv28mb",
        "outputId": "c61e8481-548d-49c8-984c-c3fe857ec013"
      },
      "execution_count": 240,
      "outputs": [
        {
          "output_type": "stream",
          "name": "stdout",
          "text": [
            "\\ln (\\eps_T \\sigma S) &= -32.43 \\pm 0.01\n",
            "n &= 4.49 \\pm 0.12\n"
          ]
        },
        {
          "output_type": "display_data",
          "data": {
            "text/plain": [
              "<Figure size 640x480 with 1 Axes>"
            ],
            "image/png": "[encoded data removed]"
          },
          "metadata": {}
        }
      ]
    },
    {
      "cell_type": "code",
      "source": [
        "S = 0.36  # cм^2\n",
        "k_B = 1.38049e-23\n",
        "c = 2.997928e10\n",
        "\n",
        "treshhold = 1700\n",
        "powers = np.array([line.power for line in data if line.real_temp >= treshhold])\n",
        "real_temps = np.array([line.real_temp for line in data if line.real_temp >= treshhold])\n",
        "epsilons = np.array([line.epsilon for line in data if line.real_temp >= treshhold])\n",
        "\n",
        "sigmas = powers / epsilons / S / np.power (real_temps, 4)\n",
        "planks_constants = np.power ((2 * np.pi**5 * k_B**4 / 15 / c**2) / sigmas, 1.0 / 3)\n",
        "\n",
        "\n",
        "for temp in real_temps:\n",
        "    print(f\"{temp:4.0f}\", end='\\t & ')\n",
        "\n",
        "print()\n",
        "\n",
        "for sigma in sigmas:\n",
        "    print(f\"${sigma:.2e}$\", end='\\t & ')\n",
        "\n",
        "print()\n",
        "\n",
        "for planks_constant in planks_constants:\n",
        "    print(f\"${planks_constant:.2e}$\", end=\"\\t & \")"
      ],
      "metadata": {
        "colab": {
          "base_uri": "https://localhost:8080/"
        },
        "id": "eslTDWqFEShi",
        "outputId": "bc60802d-e0b6-4636-afd5-feabf4c55945"
      },
      "execution_count": 253,
      "outputs": [
        {
          "output_type": "stream",
          "name": "stdout",
          "text": [
            "1743\t & 1849\t & 1955\t & 2061\t & 2167\t & 2273\t & \n",
            "$3.70e-12$\t & $4.18e-12$\t & $3.99e-12$\t & $4.53e-12$\t & $3.65e-12$\t & $3.03e-12$\t & \n",
            "$7.64e-34$\t & $7.33e-34$\t & $7.45e-34$\t & $7.14e-34$\t & $7.67e-34$\t & $8.17e-34$\t & "
          ]
        }
      ]
    },
    {
      "cell_type": "code",
      "source": [
        "\n",
        "powers = np.array([line.power for line in data])\n",
        "log_powers = np.log(powers)\n",
        "\n",
        "real_temps = np.array([line.real_temp for line in data])\n",
        "log_real_temps = np.log(real_temps)\n",
        "\n",
        "S = 0.36 / 10**6 # площадь проволоки в м^2\n",
        "\n",
        "(temp_data, w_data), k, b = get_line(log_real_temps, log_powers)\n",
        "\n",
        "exp_b = np.exp(b)\n",
        "temp_data = np.exp(temp_data)\n",
        "w_data =  np.power(temp_data, k) * exp_b # lnW = k*lnT + b ==> W =  exp(lnT*k + b) = (T^k)*exp(b)\n",
        "\n",
        "print(temp_data)\n",
        "print(w_data)\n",
        "\n",
        "plt.grid()\n",
        "plt.xlabel ('T, К',)\n",
        "plt.ylabel ('W, Вт.')\n",
        "\n",
        "plt.scatter(real_temps, powers, marker='x')\n",
        "plt.plot(temp_data, w_data, label=f\"W = f(T)\")\n",
        "plt.legend()\n",
        "\n",
        "plt.savefig(\"regular_plot.png\")\n",
        "plt.show()"
      ],
      "metadata": {
        "colab": {
          "base_uri": "https://localhost:8080/",
          "height": 1000
        },
        "id": "CkHZ61F_9ZLS",
        "outputId": "5a9c1d25-765f-42d8-9692-15d18dad0982"
      },
      "execution_count": 236,
      "outputs": [
        {
          "output_type": "stream",
          "name": "stdout",
          "text": [
            "[1213.38       1221.09970752 1228.86852899 1236.68677688 1244.55476565\n",
            " 1252.47281176 1260.44123367 1268.4603519  1276.53048897 1284.65196947\n",
            " 1292.82512007 1301.05026949 1309.32774855 1317.6578902  1326.04102946\n",
            " 1334.47750353 1342.96765173 1351.51181554 1360.11033861 1368.76356679\n",
            " 1377.47184812 1386.23553286 1395.05497349 1403.93052473 1412.86254358\n",
            " 1421.85138929 1430.89742339 1440.00100974 1449.16251448 1458.38230611\n",
            " 1467.66075544 1476.99823568 1486.39512238 1495.8517935  1505.3686294\n",
            " 1514.94601285 1524.58432906 1534.28396571 1544.04531291 1553.86876328\n",
            " 1563.75471194 1573.7035565  1583.71569711 1593.79153648 1603.93147987\n",
            " 1614.13593512 1624.40531266 1634.74002553 1645.14048942 1655.60712263\n",
            " 1666.14034615 1676.74058364 1687.40826144 1698.14380863 1708.947657\n",
            " 1719.82024108 1730.7619982  1741.77336843 1752.85479467 1764.00672263\n",
            " 1775.22960084 1786.5238807  1797.89001649 1809.32846535 1820.83968736\n",
            " 1832.42414551 1844.08230573 1855.81463694 1867.62161102 1879.50370286\n",
            " 1891.46139037 1903.4951545  1915.60547926 1927.79285175 1940.05776214\n",
            " 1952.40070376 1964.82217304 1977.32266959 1989.9026962  2002.56275884\n",
            " 2015.30336672 2028.12503228 2041.02827122 2054.01360252 2067.08154847\n",
            " 2080.23263467 2093.46739007 2106.786347   2120.19004115 2133.67901163\n",
            " 2147.25380099 2160.91495522 2174.66302378 2188.49855964 2202.42211927\n",
            " 2216.43426271 2230.53555352 2244.72655888 2259.00784957 2273.38      ]\n",
            "[0.6363361  0.65387801 0.6719035  0.6904259  0.70945891 0.7290166\n",
            " 0.74911344 0.76976429 0.79098442 0.81278953 0.83519574 0.85821963\n",
            " 0.88187821 0.90618899 0.93116995 0.95683957 0.98321681 1.0103212\n",
            " 1.03817278 1.06679214 1.09620046 1.12641947 1.15747154 1.18937962\n",
            " 1.22216731 1.25585886 1.29047919 1.32605389 1.36260929 1.40017241\n",
            " 1.43877104 1.47843372 1.51918978 1.56106936 1.60410344 1.64832385\n",
            " 1.69376328 1.74045534 1.78843456 1.83773643 1.88839741 1.94045496\n",
            " 1.99394758 2.04891484 2.10539738 2.16343698 2.22307656 2.28436023\n",
            " 2.34733331 2.41204237 2.47853527 2.54686118 2.61707064 2.68921556\n",
            " 2.76334931 2.83952671 2.91780409 2.99823935 3.08089197 3.16582308\n",
            " 3.25309549 3.34277374 3.43492416 3.5296149  3.62691598 3.72689936\n",
            " 3.82963899 3.93521085 4.04369302 4.15516572 4.26971139 4.38741475\n",
            " 4.50836284 4.63264511 4.76035349 4.8915824  5.02642891 5.16499274\n",
            " 5.30737637 5.45368509 5.60402711 5.75851362 5.91725887 6.08038026\n",
            " 6.24799842 6.42023732 6.59722434 6.77909037 6.96596991 7.15800117\n",
            " 7.35532617 7.55809083 7.76644512 7.98054312 8.20054317 8.42660797\n",
            " 8.65890472 8.8976052  9.14288595 9.39492837]\n"
          ]
        },
        {
          "output_type": "display_data",
          "data": {
            "text/plain": [
              "<Figure size 640x480 with 1 Axes>"
            ],
            "image/png": "[encoded data removed]"
          },
          "metadata": {}
        }
      ]
    },
    {
      "cell_type": "code",
      "source": [],
      "metadata": {
        "id": "YdfWE2s2DhpT"
      },
      "execution_count": null,
      "outputs": []
    }
  ]
}