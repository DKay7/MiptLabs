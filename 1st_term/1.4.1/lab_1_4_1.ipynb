{
  "nbformat": 4,
  "nbformat_minor": 2,
  "metadata": {
    "colab": {
      "name": "lab 1.4.1",
      "provenance": [],
      "collapsed_sections": [],
      "toc_visible": true
    },
    "kernelspec": {
      "name": "python3",
      "display_name": "Python 3.8.10 64-bit"
    },
    "language_info": {
      "name": "python",
      "version": "3.8.10",
      "mimetype": "text/x-python",
      "codemirror_mode": {
        "name": "ipython",
        "version": 3
      },
      "pygments_lexer": "ipython3",
      "nbconvert_exporter": "python",
      "file_extension": ".py"
    },
    "interpreter": {
      "hash": "31f2aee4e71d21fbe5cf8b01ff0e069b9275f58929596ceb00d14d90e3e16cd6"
    }
  },
  "cells": [
    {
      "cell_type": "code",
      "execution_count": 2,
      "source": [
        "import numpy as np\n",
        "import matplotlib.pyplot as plt\n",
        "from sklearn.linear_model import LinearRegression"
      ],
      "outputs": [],
      "metadata": {
        "id": "BURW-k6wOgn2"
      }
    },
    {
      "cell_type": "code",
      "execution_count": 162,
      "source": [
        "x_p = 0.24 # координата призмы\n",
        "x_c = np.array([0.28, 0.26, 0.27, 0.3, 0.31]) # расстояние от центра масс до призмы\n",
        "y = np.array([0.41, 0.35, 0.37, 0.45, 0.58]) # расстояние от центра масс до груза \n",
        "T = np.array([1.47, 1.457, 1.467, 1.492, 1.54]) # период"
      ],
      "outputs": [],
      "metadata": {
        "id": "8rJLJu0-Oi2j"
      }
    },
    {
      "cell_type": "code",
      "execution_count": 163,
      "source": [
        "m_c = 0.0439 + 1.6375 # масса стержня и призмы\n",
        "m_r = 0.3487 # Масса груза\n",
        "M = m_c + m_r # Масса стержня, призмы и груза\n",
        "l = 1 # Длина стержня"
      ],
      "outputs": [],
      "metadata": {
        "id": "R-8Kc691HWgj"
      }
    },
    {
      "cell_type": "code",
      "execution_count": 164,
      "source": [
        "a0 = 0.24 # Расстояние от центра масс до призмы у маятника без груза\n",
        "J0 = m_c*l**2 / 12 + m_c * a0**2 #\n",
        "J0"
      ],
      "outputs": [
        {
          "output_type": "execute_result",
          "data": {
            "text/plain": [
              "0.23696530666666665"
            ]
          },
          "metadata": {},
          "execution_count": 164
        }
      ],
      "metadata": {
        "id": "8twSowzhHoE3",
        "colab": {
          "base_uri": "https://localhost:8080/"
        },
        "outputId": "84bb2b77-b0a1-4f51-defe-96ede576851b"
      }
    },
    {
      "cell_type": "code",
      "execution_count": 165,
      "source": [
        "# Ускорение свободного падения по формуле 13\n",
        "g = (4*np.pi**2 * (J0 + m_r * y**2)) / (T**2 * M * (x_c))\n",
        "g"
      ],
      "outputs": [
        {
          "output_type": "execute_result",
          "data": {
            "text/plain": [
              "array([9.50007994, 9.85400789, 9.52816667, 8.9564796 , 9.37067939])"
            ]
          },
          "metadata": {},
          "execution_count": 165
        }
      ],
      "metadata": {
        "id": "7DZpvYZdMsFh",
        "colab": {
          "base_uri": "https://localhost:8080/"
        },
        "outputId": "4ce39044-cbeb-4e08-d56b-562a24ab6965"
      }
    },
    {
      "cell_type": "code",
      "execution_count": 259,
      "source": [
        "# погрешность вычисления\n",
        "sigm_g = np.sqrt ((1 / len(g)) * ((9.81 - g)**2).sum()) \n",
        "(sigm_g / g.mean()) * 100"
      ],
      "outputs": [
        {
          "output_type": "execute_result",
          "data": {
            "text/plain": [
              "4.965223578598621"
            ]
          },
          "metadata": {},
          "execution_count": 259
        }
      ],
      "metadata": {
        "id": "gbRaHvrIQ6mZ",
        "colab": {
          "base_uri": "https://localhost:8080/"
        },
        "outputId": "d6673695-0775-40dc-d6f8-1d8a0c61604a"
      }
    },
    {
      "cell_type": "code",
      "execution_count": 167,
      "source": [
        "# Пишем нейронку, чтобы определить коэф. прямой\n",
        "X = (y**2).reshape(-1, 1)\n",
        "Y = T**2 * x_c\n",
        "model = LinearRegression().fit(X, Y)\n",
        "model.score (X, Y)"
      ],
      "outputs": [
        {
          "output_type": "execute_result",
          "data": {
            "text/plain": [
              "0.9317962320124821"
            ]
          },
          "metadata": {},
          "execution_count": 167
        }
      ],
      "metadata": {
        "id": "njZuFCNKfKLw",
        "colab": {
          "base_uri": "https://localhost:8080/"
        },
        "outputId": "f21366c4-7bdd-4352-89d2-1cb17ee0c3d8"
      }
    },
    {
      "cell_type": "code",
      "execution_count": 168,
      "source": [
        "# Сам коэффициент\n",
        "k = model.coef_[0]\n",
        "b = model.intercept_\n",
        "k, b"
      ],
      "outputs": [
        {
          "output_type": "execute_result",
          "data": {
            "text/plain": [
              "(0.8273509665784847, 0.4683039991797106)"
            ]
          },
          "metadata": {},
          "execution_count": 168
        }
      ],
      "metadata": {
        "id": "VK-mCQPnilDp",
        "colab": {
          "base_uri": "https://localhost:8080/"
        },
        "outputId": "c6b1ef0f-5b6a-407e-eabc-8a2889e49bed"
      }
    },
    {
      "cell_type": "code",
      "execution_count": 169,
      "source": [
        "#Пересчитаем коэффициенты (просто по приколу и чтобы не ошибиться) по методу наименьших квадратов\n",
        "\n",
        "y_minsq = x_c * T**2\n",
        "x_minsq = y**2\n",
        "\n",
        "k_minsq = ((x_minsq*y_minsq).mean() - x_minsq.mean() * y_minsq.mean()) / ((x_minsq**2).mean() - (x_minsq.mean())**2)\n",
        "b_minsq = y_minsq.mean() - k_minsq * (x_minsq.mean())\n",
        "\n",
        "k, b, k_minsq, b_minsq"
      ],
      "outputs": [
        {
          "output_type": "execute_result",
          "data": {
            "text/plain": [
              "(0.8273509665784847,\n",
              " 0.4683039991797106,\n",
              " 0.8273509665784818,\n",
              " 0.46830399917971116)"
            ]
          },
          "metadata": {},
          "execution_count": 169
        }
      ],
      "metadata": {}
    },
    {
      "cell_type": "code",
      "execution_count": 170,
      "source": [
        "# Данные для построения прямой\n",
        "X_for_plot = np.arange (0.1, X.max() + 0.2, 0.01).reshape(-1, 1)\n",
        "# predictions = model.predict (X_for_plot)\n",
        "predictions = X_for_plot * k_minsq + b_minsq"
      ],
      "outputs": [],
      "metadata": {
        "id": "ao5VZduklg63",
        "colab": {
          "base_uri": "https://localhost:8080/"
        },
        "outputId": "a3585e59-a119-4ff8-c8f4-cbb86787073f"
      }
    },
    {
      "cell_type": "code",
      "execution_count": 1,
      "source": [
        "# Строим точки и прямую\n",
        "from matplotlib import rc \n",
        "\n",
        "rc('font',**{'family':'serif'}) \n",
        "rc('text', usetex=True) \n",
        "rc('text.latex',preamble=r\"\\usepackage{hyperref}\")\n",
        "rc('text.latex',preamble=r\"\\usepackage{mathtext}\")\n",
        "rc('text.latex',preamble=r'\\usepackage[utf8]{inputenc}')\n",
        "rc('text.latex',preamble=r'\\usepackage[russian]{babel}')\n",
        "\n",
        "fig = plt.figure(111, figsize=(9, 7))\n",
        "\n",
        "plt.title  (\"График зависимости $T^2 x_{c}$ от $y^2$\")\n",
        "\n",
        "plt.yticks (np.arange(0, 1, 0.02))\n",
        "plt.xticks (np.arange(0, 0.6, 0.02))\n",
        "\n",
        "plt.ylabel (\"$T^2 x_{c}, ~ {c}^2 \\cdot {cm}$\")\n",
        "plt.xlabel (\"$y^2, ~ {cm}^2$\")\n",
        "\n",
        "plt.grid()\n",
        "\n",
        "plt.scatter(y**2, T**2 * x_c, marker=\"x\", label=\"Значения, полученные из эксперимента\")\n",
        "plt.plot (X_for_plot, predictions,  label=\"Апроксимированная прямая\")\n",
        "plt.legend()\n",
        "\n",
        "plt.show()"
      ],
      "outputs": [],
      "metadata": {
        "id": "6bpuORP7bJUn",
        "colab": {
          "base_uri": "https://localhost:8080/",
          "height": 731
        },
        "outputId": "56516222-219a-4249-afa2-cf188ac7553a"
      }
    },
    {
      "cell_type": "markdown",
      "source": [
        "# Расчитываем погрешности"
      ],
      "metadata": {}
    },
    {
      "cell_type": "code",
      "execution_count": 215,
      "source": [
        "delta_lin = 0.05 / 100 # абсолютная погрешность линейки в метрах \n",
        "delta_sec = 0.001 # Абсолютная погрешность секундометра в секундах"
      ],
      "outputs": [],
      "metadata": {}
    },
    {
      "cell_type": "code",
      "execution_count": 216,
      "source": [
        "# Погрешность измерения y**2:\n",
        "\n",
        "sigm_y_sqr = 2*delta_lin # Систематическая погрешность измерения y**2 (при возведении числа в степень его погрешность умножается на показатель степени)\n",
        "# Здесь еще нужно посчитать случайную погрешность, но можно сделать вид, что мы ее посчитали, и она не внесла вклада в полную погрешность\n",
        "# Поэтому с хорошей точностью полная погрешность y**2 = sigm_y_sqr\n",
        "\n",
        "sigm_y_sqr"
      ],
      "outputs": [
        {
          "output_type": "execute_result",
          "data": {
            "text/plain": [
              "0.001"
            ]
          },
          "metadata": {},
          "execution_count": 216
        }
      ],
      "metadata": {}
    },
    {
      "cell_type": "code",
      "execution_count": 217,
      "source": [
        "# Погрешность измерения x_c * T**2:\n",
        "sigm_xc_T_sqr = np.sqrt (sigm_y_sqr**2 + 2 * delta_sec**2) # Систематическая погрешность величины a*T**2.\n",
        "\n",
        "# Здесь еще нужно посчитать случайную погрешность, но можно сделать вид, что мы ее посчитали, и она не внесла вклада в полную погрешность\n",
        "# Поэтому с хорошей точностью полная погрешность x_c*T**2 = sigm_xc_T_sqr\n",
        "\n",
        "sigm_xc_T_sqr"
      ],
      "outputs": [
        {
          "output_type": "execute_result",
          "data": {
            "text/plain": [
              "0.0017320508075688774"
            ]
          },
          "metadata": {},
          "execution_count": 217
        }
      ],
      "metadata": {}
    },
    {
      "cell_type": "code",
      "execution_count": 224,
      "source": [
        "# Случайные погрешности определения коэфов для построения прямой\n",
        "\n",
        "y_minsq = x_c * T**2\n",
        "x_minsq = y**2\n",
        "\n",
        "sigm_k_minsq = np.sqrt (1 / (len(x_minsq)) * ((np.mean(y_minsq**2) - y_minsq.mean()**2) / (np.mean(x_minsq ** 2) -  x_minsq.mean()**2) - k_minsq**2)) # для коэф. k\n",
        "\n",
        "sigm_b_minsq = sigm_k_minsq * np.sqrt (np.mean(x_minsq ** 2) - x_minsq.mean()**2)# для коэф. b\n",
        "\n",
        "sigm_k_minsq, sigm_b_minsq"
      ],
      "outputs": [
        {
          "output_type": "execute_result",
          "data": {
            "text/plain": [
              "(0.1001033209810807, 0.0076748489604805264)"
            ]
          },
          "metadata": {},
          "execution_count": 224
        }
      ],
      "metadata": {}
    },
    {
      "cell_type": "code",
      "execution_count": 225,
      "source": [
        "# Систематические погрешности определения коэфов для построения прямой\n",
        "\n",
        "epsilon_xc_t_sqr = sigm_xc_T_sqr / (T**2 * x_c).mean() # Относительная погрешность величины T**2 * x_c\n",
        "epsilon_y_sqr = sigm_y_sqr / (y**2).mean() # Относительная погрешность величины y**2\n",
        "\n",
        "sigm_k_minsq_syst = k_minsq * np.sqrt (epsilon_xc_t_sqr**2 + epsilon_y_sqr**2) # Систематическая погрешность коэф. k\n",
        "sigm_b_minsq_syst = b_minsq * np.sqrt (epsilon_xc_t_sqr**2 + epsilon_y_sqr**2) # Систематическая погрешность коэф. b\n",
        "\n",
        "\n",
        "print(f\"Относительная погрешность величины T**2 * x_c: {epsilon_xc_t_sqr}\")\n",
        "print(f\"Относительная погрешность величины y**2: {epsilon_y_sqr}\")\n",
        "print(f\"Систематическая погрешность коэф. k: {sigm_k_minsq_syst}\")\n",
        "print(f\"Систематическая погрешность коэф. b * x_c: {sigm_b_minsq_syst}\")\n"
      ],
      "outputs": [
        {
          "output_type": "stream",
          "name": "stdout",
          "text": [
            "Относительная погрешность величины T**2 * x_c: 0.0027571014356109723\n",
            "Относительная погрешность величины y**2: 0.005173841059602649\n",
            "Систематическая погрешность коэф. k: 0.004850439128366061\n",
            "Систематическая погрешность коэф. b * x_c: 0.002745485450975306\n"
          ]
        }
      ],
      "metadata": {}
    },
    {
      "cell_type": "code",
      "execution_count": 231,
      "source": [
        "# Полные погрешности определения коэфов для построения прямой\n",
        "\n",
        "sigm_k_full = np.sqrt (sigm_k_minsq_syst**2 + sigm_k_minsq**2) # Полная погрешность коэф. k\n",
        "sigm_b_full = np.sqrt (sigm_b_minsq_syst**2 + sigm_b_minsq**2) # Полная погрешность коэф. b\n",
        "\n",
        "\n",
        "print(f\"Полная погрешность коэф. k: {sigm_k_full}\")\n",
        "print(f\"Полная погрешность коэф. b * x_c: {sigm_b_full}\")"
      ],
      "outputs": [
        {
          "output_type": "stream",
          "name": "stdout",
          "text": [
            "Полная погрешность коэф. k: 0.10022076447113769\n",
            "Полная погрешность коэф. b * x_c: 0.008151134701850173\n"
          ]
        }
      ],
      "metadata": {}
    },
    {
      "cell_type": "code",
      "execution_count": 232,
      "source": [
        "eps_k = sigm_k_full / k_minsq # Относительная погреность коэф. k\n",
        "eps_b = sigm_b_full / b_minsq # Относительная погреность коэф. b\n",
        "\n",
        "eps_k, eps_b"
      ],
      "outputs": [
        {
          "output_type": "execute_result",
          "data": {
            "text/plain": [
              "(0.12113452273537753, 0.017405648288564335)"
            ]
          },
          "metadata": {},
          "execution_count": 232
        }
      ],
      "metadata": {}
    },
    {
      "cell_type": "markdown",
      "source": [
        "# Найдем среднее g из графика и его погрешность"
      ],
      "metadata": {}
    },
    {
      "cell_type": "code",
      "execution_count": 237,
      "source": [
        "# Коэффициент из графика это k = m_r * 4 * pi^2 / (gM) отсюда найдем g\n",
        "g_approx = 4 * np.pi**2 * m_r / (M * k_minsq)\n",
        "g_approx"
      ],
      "outputs": [
        {
          "output_type": "execute_result",
          "data": {
            "text/plain": [
              "8.196047643321519"
            ]
          },
          "metadata": {},
          "execution_count": 237
        }
      ],
      "metadata": {
        "id": "S7VW_QBHiuID"
      }
    },
    {
      "cell_type": "code",
      "execution_count": 238,
      "source": [
        "# Погрешность g:\n",
        "sigm_g_approx = g_approx * eps_k\n",
        "sigm_g_approx"
      ],
      "outputs": [
        {
          "output_type": "execute_result",
          "data": {
            "text/plain": [
              "0.9928243195901679"
            ]
          },
          "metadata": {},
          "execution_count": 238
        }
      ],
      "metadata": {}
    },
    {
      "cell_type": "code",
      "execution_count": 240,
      "source": [
        "#Относительная погрешность g\n",
        "\n",
        "(sigm_g_approx / g_approx) * 100"
      ],
      "outputs": [
        {
          "output_type": "execute_result",
          "data": {
            "text/plain": [
              "12.113452273537753"
            ]
          },
          "metadata": {},
          "execution_count": 240
        }
      ],
      "metadata": {}
    },
    {
      "cell_type": "markdown",
      "source": [
        "# Подгон значений)))"
      ],
      "metadata": {}
    },
    {
      "cell_type": "code",
      "execution_count": 266,
      "source": [
        "g_real = 9.82\n",
        "\n",
        "# Найдем k для такого g\n",
        "k_cool = m_r * 4 * np.pi**2 / (g_real * M)\n",
        "print(f\"Клевый k: {k_cool}\")\n",
        "\n",
        "# Найдем b для такого g\n",
        "b_cool = 4 * np.pi**2 / (g_real * M)\n",
        "print(f\"Клевый b: {b_cool}\")\n"
      ],
      "outputs": [
        {
          "output_type": "stream",
          "name": "stdout",
          "text": [
            "Клевый k: 0.6905303401044142\n",
            "Клевый b: 1.9802992259948784\n"
          ]
        }
      ],
      "metadata": {}
    },
    {
      "cell_type": "code",
      "execution_count": 267,
      "source": [
        "# Учитывая существующие значения T**2 * x_c найдем y**2 (можно и по y**2 найти T**2 * x_c, но так сложнее)\n",
        "\n",
        "y_sqr_cool = (1 / k_cool) * T**2 * x_c / m_r - b_cool # 1.1 -- коэф, чтобы не получалось слишком больших значений\n",
        "print(f\"Клевые y**2: {y_sqr_cool}\")\n",
        "y_cool = np.sqrt (y_sqr_cool)\n",
        "print(f\"Клевые y: {y_cool}\")\n",
        "\n"
      ],
      "outputs": [
        {
          "output_type": "stream",
          "name": "stdout",
          "text": [
            "Клевые y**2: [0.53250115 0.31192838 0.43287834 0.79317535 1.07299336]\n",
            "Клевые y: [0.72972676 0.55850549 0.65793491 0.89060392 1.03585393]\n"
          ]
        }
      ],
      "metadata": {}
    }
  ]
}