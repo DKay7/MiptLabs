{
  "nbformat": 4,
  "nbformat_minor": 0,
  "metadata": {
    "colab": {
      "name": "lab_2_4_1.ipynb",
      "provenance": []
    },
    "kernelspec": {
      "name": "python3",
      "display_name": "Python 3"
    },
    "language_info": {
      "name": "python"
    }
  },
  "cells": [
    {
      "cell_type": "code",
      "execution_count": 336,
      "metadata": {
        "id": "9MKF_kOZ4Pw4"
      },
      "outputs": [],
      "source": [
        "import numpy as np\n",
        "import matplotlib.pyplot as plt\n",
        "from collections import namedtuple"
      ]
    },
    {
      "cell_type": "code",
      "source": [
        "pho_hg = 13596  # kg / m^3\n",
        "g      = 9.8    # m / sec^2\n",
        "\n",
        "sigm_h = 0.05   # мм.\n",
        "R      = 8.32\n"
      ],
      "metadata": {
        "id": "r-AYAIAI7pJf"
      },
      "execution_count": 337,
      "outputs": []
    },
    {
      "cell_type": "code",
      "source": [
        "Measurment = namedtuple (\"Measurment\", [\"T\", \"h_bot\", \"h_top\"]) # T in Celciums, h in mm"
      ],
      "metadata": {
        "id": "1v3N9Yk64Vhb"
      },
      "execution_count": 338,
      "outputs": []
    },
    {
      "cell_type": "code",
      "source": [
        "def cels_to_kelv (measurment: Measurment):\n",
        "    new_measurment = Measurment (measurment.T + 273, measurment.h_bot, measurment.h_top)\n",
        "    return new_measurment"
      ],
      "metadata": {
        "id": "IjqWd250A6D-"
      },
      "execution_count": 339,
      "outputs": []
    },
    {
      "cell_type": "code",
      "source": [
        "heating = [\n",
        "           Measurment (23, 7.3,  9.29),\n",
        "           Measurment (25, 7.2,  9.36),\n",
        "           Measurment (27, 7.19, 9.52),\n",
        "           Measurment (29, 7.05, 9.68),\n",
        "           Measurment (31, 6.88, 9.84),\n",
        "           Measurment (33, 6.70, 10.19),\n",
        "           Measurment (35, 6.59, 10.34),\n",
        "           Measurment (37, 6.24, 10.59),\n",
        "           Measurment (39, 5.98, 10.81),\n",
        "           Measurment (41, 5.68, 11.16),\n",
        "]\n",
        "\n",
        "cooling = [\n",
        "           Measurment (23, 7.38, 9.30),\n",
        "           Measurment (25, 7.24, 9.49),\n",
        "           Measurment (27, 7.10, 9.60),\n",
        "           Measurment (29, 6.98, 9.73),\n",
        "           Measurment (31, 6.76, 9.97),\n",
        "           Measurment (33, 6.60, 10.19),\n",
        "           Measurment (35, 6.39, 10.42),\n",
        "           Measurment (37, 6.19, 10.60),\n",
        "           Measurment (39, 5.94, 10.90),\n",
        "           Measurment (41, 5.68, 11.16),\n",
        "]\n",
        "\n",
        "heating = list(map(lambda mes: cels_to_kelv (mes), heating))\n",
        "cooling = list(map(lambda mes: cels_to_kelv (mes), cooling))\n",
        "\n",
        "assert (len(heating) == len(cooling))\n",
        "data_len = len(heating)"
      ],
      "metadata": {
        "id": "qxUIu1yY5SmN"
      },
      "execution_count": 340,
      "outputs": []
    },
    {
      "cell_type": "code",
      "source": [
        "def count_P (measurment: Measurment):\n",
        "    delta_h = measurment.h_top - measurment.h_bot   # in mm\n",
        "    # P = pho_hg * g * delta_h / 1000\n",
        "    P = 133.322 * delta_h\n",
        "    return P"
      ],
      "metadata": {
        "id": "5_jt6iRK6Pbn"
      },
      "execution_count": 341,
      "outputs": []
    },
    {
      "cell_type": "code",
      "source": [
        "heatings_P = dict(map(lambda mes: (mes.T, count_P(mes)), heating))\n",
        "coolings_P = dict(map(lambda mes: (mes.T, count_P(mes)), cooling))"
      ],
      "metadata": {
        "id": "-vX0T03I8AlJ"
      },
      "execution_count": 342,
      "outputs": []
    },
    {
      "cell_type": "code",
      "source": [
        "for i in range(data_len):\n",
        "    heat_mes = heating[i]\n",
        "    cool_mes = cooling[i]\n",
        "\n",
        "    print (f\"{heat_mes.T}\\t& {heat_mes.h_bot}\\t& {heat_mes.h_top}\\t& {heatings_P[heat_mes.T]:.2f}\\t& \\t& \", end=\"\")\n",
        "    print (f\"{cool_mes.T}\\t& {cool_mes.h_bot}\\t& {cool_mes.h_top}\\t& {coolings_P[cool_mes.T]:.2f}\\t\\\\\\\\ \\\\cline{{1-4}} \\\\cline{{6-9}}\",    )"
      ],
      "metadata": {
        "colab": {
          "base_uri": "https://localhost:8080/"
        },
        "id": "XUgxluAdAw_0",
        "outputId": "518a357f-88f3-4756-d9b4-8cf0e6fbf96b"
      },
      "execution_count": 343,
      "outputs": [
        {
          "output_type": "stream",
          "name": "stdout",
          "text": [
            "296\t& 7.3\t& 9.29\t& 265.31\t& \t& 296\t& 7.38\t& 9.3\t& 255.98\t\\\\ \\cline{1-4} \\cline{6-9}\n",
            "298\t& 7.2\t& 9.36\t& 287.98\t& \t& 298\t& 7.24\t& 9.49\t& 299.97\t\\\\ \\cline{1-4} \\cline{6-9}\n",
            "300\t& 7.19\t& 9.52\t& 310.64\t& \t& 300\t& 7.1\t& 9.6\t& 333.31\t\\\\ \\cline{1-4} \\cline{6-9}\n",
            "302\t& 7.05\t& 9.68\t& 350.64\t& \t& 302\t& 6.98\t& 9.73\t& 366.64\t\\\\ \\cline{1-4} \\cline{6-9}\n",
            "304\t& 6.88\t& 9.84\t& 394.63\t& \t& 304\t& 6.76\t& 9.97\t& 427.96\t\\\\ \\cline{1-4} \\cline{6-9}\n",
            "306\t& 6.7\t& 10.19\t& 465.29\t& \t& 306\t& 6.6\t& 10.19\t& 478.63\t\\\\ \\cline{1-4} \\cline{6-9}\n",
            "308\t& 6.59\t& 10.34\t& 499.96\t& \t& 308\t& 6.39\t& 10.42\t& 537.29\t\\\\ \\cline{1-4} \\cline{6-9}\n",
            "310\t& 6.24\t& 10.59\t& 579.95\t& \t& 310\t& 6.19\t& 10.6\t& 587.95\t\\\\ \\cline{1-4} \\cline{6-9}\n",
            "312\t& 5.98\t& 10.81\t& 643.95\t& \t& 312\t& 5.94\t& 10.9\t& 661.28\t\\\\ \\cline{1-4} \\cline{6-9}\n",
            "314\t& 5.68\t& 11.16\t& 730.60\t& \t& 314\t& 5.68\t& 11.16\t& 730.60\t\\\\ \\cline{1-4} \\cline{6-9}\n"
          ]
        }
      ]
    },
    {
      "cell_type": "code",
      "source": [
        "total_sigm = 133.322  * 2 * (sigm_h ** 2)\n",
        "total_sigm "
      ],
      "metadata": {
        "colab": {
          "base_uri": "https://localhost:8080/"
        },
        "id": "qiMYnfnEGLO3",
        "outputId": "117c8bcb-97d3-453e-9d14-4bb70c2df993"
      },
      "execution_count": 344,
      "outputs": [
        {
          "output_type": "execute_result",
          "data": {
            "text/plain": [
              "0.6666100000000001"
            ]
          },
          "metadata": {},
          "execution_count": 344
        }
      ]
    },
    {
      "cell_type": "code",
      "source": [
        "total_sigm / np.mean (list(heatings_P.values())) * 100, total_sigm / np.mean (list(coolings_P.values())) * 100"
      ],
      "metadata": {
        "colab": {
          "base_uri": "https://localhost:8080/"
        },
        "id": "JZZkv9KkLK__",
        "outputId": "258714fa-f1d2-4576-a3e0-5ecbac21c550"
      },
      "execution_count": 345,
      "outputs": [
        {
          "output_type": "execute_result",
          "data": {
            "text/plain": [
              "(0.14718869590815428, 0.1424501424501425)"
            ]
          },
          "metadata": {},
          "execution_count": 345
        }
      ]
    },
    {
      "cell_type": "markdown",
      "source": [
        "# fitting poly P = $A \\cdot e^{B \\cdot T}$"
      ],
      "metadata": {
        "id": "v2Ergc-VOnai"
      }
    },
    {
      "cell_type": "code",
      "source": [
        "T_heat = np.array ([mes.T for mes in heating])\n",
        "P_heat = list(heatings_P.values())\n",
        "\n",
        "T_cool = np.array ([mes.T for mes in cooling])\n",
        "P_cool = list(coolings_P.values())\n",
        "\n",
        "B_h, A_h = np.polyfit(T_heat, np.log(P_heat), 1)\n",
        "B_c, A_c = np.polyfit(T_cool, np.log(P_cool), 1)\n",
        "\n",
        "A_h = np.exp(A_h)\n",
        "A_c = np.exp(A_c)"
      ],
      "metadata": {
        "id": "q8xeeBrCLbBW"
      },
      "execution_count": 346,
      "outputs": []
    },
    {
      "cell_type": "code",
      "source": [
        "poly_X_h = np.arange (T_heat.min(), T_heat.max(), 0.01)\n",
        "poly_X_c = np.arange (T_cool.min(), T_cool.max(), 0.01)\n",
        "\n",
        "poly_Y_h = A_h * np.exp (poly_X_h * B_h)\n",
        "poly_Y_c = A_c * np.exp (poly_X_c * B_c)"
      ],
      "metadata": {
        "id": "m3MyerV8O_sr"
      },
      "execution_count": 347,
      "outputs": []
    },
    {
      "cell_type": "code",
      "source": [
        "plt.figure(figsize=(16, 10))\n",
        "\n",
        "plt.plot (poly_X_h, poly_Y_h, \"red\" , label=\"Нагревание\")\n",
        "plt.plot (poly_X_c, poly_Y_c, \"blue\", label=\"Охлаждение\")\n",
        "\n",
        "plt.scatter (T_heat, P_heat, color=\"red\" )\n",
        "plt.scatter (T_cool, P_cool, color=\"blue\")\n",
        "\n",
        "plt.xlabel(\"T, К\")\n",
        "plt.ylabel(\"P, Па\")\n",
        "plt.legend()\n",
        "plt.savefig (\"P_from_T.png\")\n",
        "plt.show()"
      ],
      "metadata": {
        "colab": {
          "base_uri": "https://localhost:8080/",
          "height": 622
        },
        "id": "VIE9Dk21OWd6",
        "outputId": "f4c1e7c6-91f8-453a-c408-0810fa12de7b"
      },
      "execution_count": 348,
      "outputs": [
        {
          "output_type": "display_data",
          "data": {
            "text/plain": [
              "<Figure size 1152x720 with 1 Axes>"
            ],
            "image/png": "[encoded data removed]"
          },
          "metadata": {
            "needs_background": "light"
          }
        }
      ]
    },
    {
      "cell_type": "code",
      "source": [
        "print (A_h, A_c)\n",
        "print (B_h, B_c)"
      ],
      "metadata": {
        "colab": {
          "base_uri": "https://localhost:8080/"
        },
        "id": "TYzbyV9VOh8h",
        "outputId": "6fff292c-92e1-4523-8a09-fdb42ad25117"
      },
      "execution_count": 349,
      "outputs": [
        {
          "output_type": "stream",
          "name": "stdout",
          "text": [
            "9.227809398961618e-06 9.833540230566252e-06\n",
            "0.05788020672321707 0.05778377379408213\n"
          ]
        }
      ]
    },
    {
      "cell_type": "code",
      "source": [
        "def count_L (a, b, mes:Measurment):\n",
        "    T = mes.T\n",
        "    P = count_P (mes)\n",
        "    L = R * T**2 * a * b / (P) * np.exp (b * T)\n",
        "    return L"
      ],
      "metadata": {
        "id": "EtHw8WHRcXO4"
      },
      "execution_count": 350,
      "outputs": []
    },
    {
      "cell_type": "code",
      "source": [
        "L_h_tabl = [count_L(A_h, B_h, heat_mes) for heat_mes in heating]\n",
        "L_c_tabl = [count_L(A_h, B_h, cool_mes) for cool_mes in cooling]"
      ],
      "metadata": {
        "id": "p2ZIR6u69ZD-"
      },
      "execution_count": 351,
      "outputs": []
    },
    {
      "cell_type": "code",
      "source": [
        "for i in range(data_len):\n",
        "    heat_mes = heating[i]\n",
        "    cool_mes = cooling[i]\n",
        "\n",
        "    print (f\"{heat_mes.T}\\t& {heatings_P[heat_mes.T]:.2f}\\t& {count_L(A_h, B_h, heat_mes)/1000:.2f}\\t& \\t& \", end=\"\")\n",
        "    print (f\"{cool_mes.T}\\t& {coolings_P[cool_mes.T]:.2f}\\t& {count_L(A_c, B_c, cool_mes)/1000:.2f}\\t\\\\\\\\ \\\\cline{{1-3}} \\\\cline{{5-7}}\",)"
      ],
      "metadata": {
        "colab": {
          "base_uri": "https://localhost:8080/"
        },
        "id": "CtPl_lrNZi9-",
        "outputId": "5d0efd62-89a7-452b-df8a-7af281fa3916"
      },
      "execution_count": 352,
      "outputs": [
        {
          "output_type": "stream",
          "name": "stdout",
          "text": [
            "296\t& 265.31\t& 40.47\t& \t& 296\t& 255.98\t& 43.37\t\\\\ \\cline{1-3} \\cline{5-7}\n",
            "298\t& 287.98\t& 42.43\t& \t& 298\t& 299.97\t& 42.11\t\\\\ \\cline{1-3} \\cline{5-7}\n",
            "300\t& 310.64\t& 44.76\t& \t& 300\t& 333.31\t& 43.11\t\\\\ \\cline{1-3} \\cline{5-7}\n",
            "302\t& 350.64\t& 45.11\t& \t& 302\t& 366.64\t& 44.58\t\\\\ \\cline{1-3} \\cline{5-7}\n",
            "304\t& 394.63\t& 45.60\t& \t& 304\t& 427.96\t& 43.44\t\\\\ \\cline{1-3} \\cline{5-7}\n",
            "306\t& 465.29\t& 44.00\t& \t& 306\t& 478.63\t& 44.18\t\\\\ \\cline{1-3} \\cline{5-7}\n",
            "308\t& 499.96\t& 46.57\t& \t& 308\t& 537.29\t& 44.76\t\\\\ \\cline{1-3} \\cline{5-7}\n",
            "310\t& 579.95\t& 45.66\t& \t& 310\t& 587.95\t& 46.51\t\\\\ \\cline{1-3} \\cline{5-7}\n",
            "312\t& 643.95\t& 46.77\t& \t& 312\t& 661.28\t& 47.02\t\\\\ \\cline{1-3} \\cline{5-7}\n",
            "314\t& 730.60\t& 46.88\t& \t& 314\t& 730.60\t& 48.38\t\\\\ \\cline{1-3} \\cline{5-7}\n"
          ]
        }
      ]
    },
    {
      "cell_type": "markdown",
      "source": [
        "# $\\ln{p}(\\frac{1}{T})$"
      ],
      "metadata": {
        "id": "CGARaypxwo46"
      }
    },
    {
      "cell_type": "code",
      "source": [
        "one_over_T_h = 1 / T_heat \n",
        "one_over_T_c = 1 / T_cool\n",
        "\n",
        "ln_P_h       = np.log (P_heat)\n",
        "ln_P_c       = np.log (P_cool)"
      ],
      "metadata": {
        "id": "zi-4TmHMdV-Q"
      },
      "execution_count": 353,
      "outputs": []
    },
    {
      "cell_type": "code",
      "source": [
        "A_h, B_h = np.polyfit (one_over_T_h, ln_P_h, 1)\n",
        "A_c, B_c = np.polyfit (one_over_T_c, ln_P_c, 1)"
      ],
      "metadata": {
        "id": "4HXykG60wUFw"
      },
      "execution_count": 354,
      "outputs": []
    },
    {
      "cell_type": "code",
      "source": [
        "poly_X_h = np.arange (one_over_T_h.min(), one_over_T_h.max(), 1e-7)\n",
        "poly_X_c = np.arange (one_over_T_c.min(), one_over_T_c.max(), 1e-7)\n",
        "\n",
        "poly_Y_h = A_h * poly_X_h + B_h\n",
        "poly_Y_c = A_c * poly_X_c + B_c"
      ],
      "metadata": {
        "id": "soeKPu3Yyu6t"
      },
      "execution_count": 355,
      "outputs": []
    },
    {
      "cell_type": "code",
      "source": [
        "plt.figure(figsize=(16, 10))\n",
        "plt.scatter (one_over_T_h, ln_P_h, color=\"red\" )\n",
        "plt.plot (poly_X_h, poly_Y_h, color=\"red\", label=\"Нагревание\")\n",
        "\n",
        "plt.scatter (one_over_T_c, ln_P_c, color=\"blue\" )\n",
        "plt.plot (poly_X_c, poly_Y_c, color=\"blue\", label=\"Охлаждение\")\n",
        "\n",
        "plt.xlabel (\"1 / T, K^-1\", fontdict={\"size\": 20})\n",
        "plt.ylabel (\"ln P\", fontdict={\"size\": 20})\n",
        "plt.legend()\n",
        "plt.savefig (\"ln_p_from_1_over_T.png\")\n",
        "plt.show()"
      ],
      "metadata": {
        "colab": {
          "base_uri": "https://localhost:8080/",
          "height": 623
        },
        "id": "VXjBEoXbwWJ7",
        "outputId": "96d65f24-8ed1-4665-9a1d-aeffa77d8806"
      },
      "execution_count": 356,
      "outputs": [
        {
          "output_type": "display_data",
          "data": {
            "text/plain": [
              "<Figure size 1152x720 with 1 Axes>"
            ],
            "image/png": "[encoded data removed]"
          },
          "metadata": {
            "needs_background": "light"
          }
        }
      ]
    },
    {
      "cell_type": "code",
      "source": [
        "A_h, A_c"
      ],
      "metadata": {
        "id": "mr3u51ar3M9Z",
        "colab": {
          "base_uri": "https://localhost:8080/"
        },
        "outputId": "cf7fe09d-f720-4a23-ad64-7603bba14569"
      },
      "execution_count": 357,
      "outputs": [
        {
          "output_type": "execute_result",
          "data": {
            "text/plain": [
              "(-5375.665987105688, -5373.784609821788)"
            ]
          },
          "metadata": {},
          "execution_count": 357
        }
      ]
    },
    {
      "cell_type": "code",
      "source": [
        "L_h = -R * A_h \n",
        "L_c = -R * A_c\n",
        "L_h, L_c "
      ],
      "metadata": {
        "colab": {
          "base_uri": "https://localhost:8080/"
        },
        "id": "GDONZCCa6iuW",
        "outputId": "d0d93a0f-969f-44dd-ef27-228e76ff469f"
      },
      "execution_count": 358,
      "outputs": [
        {
          "output_type": "execute_result",
          "data": {
            "text/plain": [
              "(44725.541012719324, 44709.887953717276)"
            ]
          },
          "metadata": {},
          "execution_count": 358
        }
      ]
    },
    {
      "cell_type": "code",
      "source": [
        "L_h / 18, L_c / 18, "
      ],
      "metadata": {
        "colab": {
          "base_uri": "https://localhost:8080/"
        },
        "id": "xbOMH6Sd7FY3",
        "outputId": "50e656bc-8341-44de-ce52-b8c9077c4a8f"
      },
      "execution_count": 359,
      "outputs": [
        {
          "output_type": "execute_result",
          "data": {
            "text/plain": [
              "(2484.752278484407, 2483.8826640954044)"
            ]
          },
          "metadata": {},
          "execution_count": 359
        }
      ]
    },
    {
      "cell_type": "code",
      "source": [
        "0.03 / 2.483 * 100"
      ],
      "metadata": {
        "colab": {
          "base_uri": "https://localhost:8080/"
        },
        "id": "1XWLkeVB8XSj",
        "outputId": "d97eeabd-db5c-4a23-9faa-b612c2dd4f96"
      },
      "execution_count": 360,
      "outputs": [
        {
          "output_type": "execute_result",
          "data": {
            "text/plain": [
              "1.2082158679017316"
            ]
          },
          "metadata": {},
          "execution_count": 360
        }
      ]
    },
    {
      "cell_type": "code",
      "source": [
        "\n",
        "np.mean([np.mean(L_h_tabl) / 18, np.mean(L_c_tabl) / 18])"
      ],
      "metadata": {
        "colab": {
          "base_uri": "https://localhost:8080/"
        },
        "id": "EfAyMTTZ8uFn",
        "outputId": "06154a90-5809-47c4-9ebc-8ec9cbb6a9b1"
      },
      "execution_count": 363,
      "outputs": [
        {
          "output_type": "execute_result",
          "data": {
            "text/plain": [
              "2448.3550307986316"
            ]
          },
          "metadata": {},
          "execution_count": 363
        }
      ]
    },
    {
      "cell_type": "code",
      "source": [
        ""
      ],
      "metadata": {
        "id": "CZUpHtnI9f-r"
      },
      "execution_count": null,
      "outputs": []
    }
  ]
}