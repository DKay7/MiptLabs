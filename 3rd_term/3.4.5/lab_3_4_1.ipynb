{
  "nbformat": 4,
  "nbformat_minor": 0,
  "metadata": {
    "colab": {
      "provenance": []
    },
    "kernelspec": {
      "name": "python3",
      "display_name": "Python 3"
    },
    "language_info": {
      "name": "python"
    }
  },
  "cells": [
    {
      "cell_type": "code",
      "execution_count": null,
      "metadata": {
        "id": "Cn-g-o7eA1KH"
      },
      "outputs": [],
      "source": [
        "import matplotlib.pyplot as plt\n",
        "import numpy as np\n",
        "\n",
        "\n",
        "R0 = 0.5\n",
        "Ru = 20000\n",
        "Cu = 20 * 10**(-6)\n",
        "\n",
        "def comp_H(Kx, N0, l_circ):\n",
        "    Kx = Kx / 1000\n",
        "    I = Kx / R0\n",
        "    H = (I * N0 )/ (l_circ)\n",
        "\n",
        "    return H\n",
        "\n",
        "def comp_B(S, Nu, Uo):\n",
        "    Uo = Uo / 1000\n",
        "    B = Ru * Cu * Uo / (S * Nu)\n",
        "\n",
        "    return B\n"
      ]
    },
    {
      "cell_type": "markdown",
      "source": [
        "Расчет масштабов\n"
      ],
      "metadata": {
        "id": "0SKRjwFXdWa5"
      }
    },
    {
      "cell_type": "code",
      "source": [
        "# феррит\n",
        "M_1_x = comp_H(50, 40, 25 / 100)\n",
        "M_1_y = comp_B(3 / (10000), 400, 20)\n",
        "\n",
        "M_1_x, M_1_y"
      ],
      "metadata": {
        "colab": {
          "base_uri": "https://localhost:8080/"
        },
        "id": "Hbc4rTbMXvRm",
        "outputId": "4be00046-2865-43f5-d9a5-95b7a0de3e06"
      },
      "execution_count": null,
      "outputs": [
        {
          "output_type": "execute_result",
          "data": {
            "text/plain": [
              "(16.0, 0.06666666666666667)"
            ]
          },
          "metadata": {},
          "execution_count": 91
        }
      ]
    },
    {
      "cell_type": "code",
      "source": [
        "# пермаллой\n",
        "M_2_x = comp_H(20, 20, 13.3 / 100)\n",
        "M_2_y = comp_B(0.8 / (10000), 300, 50)\n",
        "M_2_x, M_2_y\n"
      ],
      "metadata": {
        "colab": {
          "base_uri": "https://localhost:8080/"
        },
        "id": "_IEdejvuYQ9t",
        "outputId": "d85033a7-4c76-47df-9029-7fd23356235d"
      },
      "execution_count": null,
      "outputs": [
        {
          "output_type": "execute_result",
          "data": {
            "text/plain": [
              "(6.015037593984962, 0.8333333333333334)"
            ]
          },
          "metadata": {},
          "execution_count": 92
        }
      ]
    },
    {
      "cell_type": "code",
      "source": [
        "# кр. железо\n",
        "M_3_x = comp_H(200, 25, 11 / 100)\n",
        "M_3_y = comp_B(2 / (10000), 250, 50)\n",
        "M_3_x, M_3_y\n"
      ],
      "metadata": {
        "colab": {
          "base_uri": "https://localhost:8080/"
        },
        "id": "Es-SWVYpa5cm",
        "outputId": "9e999d74-bc87-4f70-a89d-ebc38f8d304f"
      },
      "execution_count": null,
      "outputs": [
        {
          "output_type": "execute_result",
          "data": {
            "text/plain": [
              "(90.9090909090909, 0.39999999999999997)"
            ]
          },
          "metadata": {},
          "execution_count": 93
        }
      ]
    },
    {
      "cell_type": "markdown",
      "source": [
        "Расчет предельной индукции и коэрцитивной силы."
      ],
      "metadata": {
        "id": "K_hUa3nMeAeo"
      }
    },
    {
      "cell_type": "code",
      "source": [
        "\n",
        "def count_Bs(y_s, m_y):\n",
        "    return y_s * m_y\n",
        "\n",
        "def count_Hc(x_c, m_x):\n",
        "    return x_c * m_x"
      ],
      "metadata": {
        "id": "OG0EY6pabUWH"
      },
      "execution_count": null,
      "outputs": []
    },
    {
      "cell_type": "code",
      "source": [
        "# феррит\n",
        "count_Bs(6.75, M_1_y), count_Hc(1, M_1_x)"
      ],
      "metadata": {
        "colab": {
          "base_uri": "https://localhost:8080/"
        },
        "id": "yP1vh5C2d_hd",
        "outputId": "364d69a2-5268-4c6a-e6fc-797617803679"
      },
      "execution_count": null,
      "outputs": [
        {
          "output_type": "execute_result",
          "data": {
            "text/plain": [
              "(0.45, 16.0)"
            ]
          },
          "metadata": {},
          "execution_count": 95
        }
      ]
    },
    {
      "cell_type": "code",
      "source": [
        "# пермаллой\n",
        "count_Bs(3.6, M_2_y), count_Hc(3.3, M_2_x)\n"
      ],
      "metadata": {
        "colab": {
          "base_uri": "https://localhost:8080/"
        },
        "id": "_mf9LqXieWEl",
        "outputId": "b84f9ab7-7b65-40ff-8261-77de69d959f6"
      },
      "execution_count": null,
      "outputs": [
        {
          "output_type": "execute_result",
          "data": {
            "text/plain": [
              "(3.0, 19.849624060150372)"
            ]
          },
          "metadata": {},
          "execution_count": 96
        }
      ]
    },
    {
      "cell_type": "code",
      "source": [
        "# кр. железо\n",
        "count_Bs(6.75, M_3_y), count_Hc(0.6, M_3_x)\n"
      ],
      "metadata": {
        "colab": {
          "base_uri": "https://localhost:8080/"
        },
        "id": "RF1awOtOeojF",
        "outputId": "b400323a-b95e-4d2d-f5af-2a74058b09d6"
      },
      "execution_count": null,
      "outputs": [
        {
          "output_type": "execute_result",
          "data": {
            "text/plain": [
              "(2.6999999999999997, 54.54545454545454)"
            ]
          },
          "metadata": {},
          "execution_count": 97
        }
      ]
    },
    {
      "cell_type": "markdown",
      "source": [
        "Построение графиков"
      ],
      "metadata": {
        "id": "3aFbPyIIsyiY"
      }
    },
    {
      "cell_type": "code",
      "source": [
        "# феррит\n",
        "X_1 = [-3.8, -2.6, -2.2, -1.8, -1.4, -1.2, -0.8, -0.6, -0.6]\n",
        "Y_1 = [-3.2, -3, -2.8, -2.6, -2.2, -1.6, -1.2, -0.6, -0.6]\n",
        "\n",
        "# пермаллой\n",
        "X_2 = [2.2, 2, 1.6, 1.4, 1.2, 1.2, 1]\n",
        "Y_2 = [2, 1.8, 1.4, 1, 0.6, 0.4, 0.2]\n",
        "\n",
        "# кр. железо\n",
        "X_3 = [2.8, 2.6, 2.4, 2, 1.6, 1.6, 1.4, 1.4, 1, 0.8]\n",
        "Y_3 = [2.2, 2, 2, 1.8, 1.8, 1.8, 1.6, 1.6, 1.4, 1.2]"
      ],
      "metadata": {
        "id": "kRBZKeFMe4sT"
      },
      "execution_count": 223,
      "outputs": []
    },
    {
      "cell_type": "code",
      "source": [],
      "metadata": {
        "id": "bvg1wNytyGRw"
      },
      "execution_count": 223,
      "outputs": []
    },
    {
      "cell_type": "code",
      "source": [
        "from sklearn.linear_model import LogisticRegression\n",
        "\n",
        "def plot(X, Y, name, degree):\n",
        "    X = np.array(X)\n",
        "    Y = np.array(Y)\n",
        "    fig = plt.figure()\n",
        "    plt.scatter(X, Y, label=name)\n",
        "    \n",
        "    # X = X * 10\n",
        "    # Y = Y * 10\n",
        "\n",
        "    from sklearn.preprocessing import PolynomialFeatures\n",
        "    from sklearn.pipeline import make_pipeline\n",
        "    from sklearn.linear_model import LinearRegression\n",
        "    from sklearn import preprocessing\n",
        "    scaler = preprocessing.StandardScaler()\n",
        "\n",
        "    polyreg_scaled=make_pipeline(PolynomialFeatures(degree), scaler, LinearRegression())\n",
        "    polyreg_scaled.fit(X.reshape(-1, 1), Y)\n",
        "\n",
        "    # model = LogisticRegression().fit(X.reshape(-1, 1), Y)\n",
        "    \n",
        "    X = np.arange (X.min(), X.max() + 0.05, 0.1)\n",
        "    Y_PREDICTED = polyreg_scaled.predict(X.reshape(-1, 1))\n",
        "    \n",
        "    plt.grid()\n",
        "    plt.xlabel(\"x, дел.\")\n",
        "    plt.ylabel(\"y, дел.\")\n",
        "    \n",
        "    plt.plot (X, Y_PREDICTED)\n",
        "    plt.legend()\n",
        "    plt.savefig(name + \".png\")\n",
        "    plt.show()"
      ],
      "metadata": {
        "id": "7To4pZjotuLC"
      },
      "execution_count": 224,
      "outputs": []
    },
    {
      "cell_type": "code",
      "source": [
        "plot (X_1, Y_1, \"феррит\", 4)"
      ],
      "metadata": {
        "colab": {
          "base_uri": "https://localhost:8080/",
          "height": 281
        },
        "id": "8pCmMNF4uGcS",
        "outputId": "bd4a84b9-0a28-40a8-fe99-21a2b901d710"
      },
      "execution_count": 225,
      "outputs": [
        {
          "output_type": "display_data",
          "data": {
            "text/plain": [
              "<Figure size 432x288 with 1 Axes>"
            ],
            "image/png": "[encoded data removed]"
          },
          "metadata": {
            "needs_background": "light"
          }
        }
      ]
    },
    {
      "cell_type": "code",
      "source": [
        "plot (X_2, Y_2, \"пермаллой\", 4)\n"
      ],
      "metadata": {
        "colab": {
          "base_uri": "https://localhost:8080/",
          "height": 279
        },
        "id": "HIQ8WnLxuJPG",
        "outputId": "a0112bf3-541e-43ce-dc3e-cdad86201b96"
      },
      "execution_count": 226,
      "outputs": [
        {
          "output_type": "display_data",
          "data": {
            "text/plain": [
              "<Figure size 432x288 with 1 Axes>"
            ],
            "image/png": "[encoded data removed]"
          },
          "metadata": {
            "needs_background": "light"
          }
        }
      ]
    },
    {
      "cell_type": "code",
      "source": [
        "plot (X_3, Y_3, \"кремниевое железо\", 3)\n"
      ],
      "metadata": {
        "colab": {
          "base_uri": "https://localhost:8080/",
          "height": 279
        },
        "id": "KDCMNx182kQA",
        "outputId": "2c84c274-8b92-4ee9-ef8f-5d6d0c00d6ad"
      },
      "execution_count": 227,
      "outputs": [
        {
          "output_type": "display_data",
          "data": {
            "text/plain": [
              "<Figure size 432x288 with 1 Axes>"
            ],
            "image/png": "[encoded data removed]"
          },
          "metadata": {
            "needs_background": "light"
          }
        }
      ]
    },
    {
      "cell_type": "code",
      "source": [],
      "metadata": {
        "id": "N_cq3QfO2sVw"
      },
      "execution_count": null,
      "outputs": []
    }
  ]
}